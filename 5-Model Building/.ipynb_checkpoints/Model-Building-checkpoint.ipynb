{
 "cells": [
  {
   "cell_type": "code",
   "execution_count": 1,
   "metadata": {},
   "outputs": [],
   "source": [
    "import numpy as np\n",
    "import pandas as pd\n",
    "import matplotlib.pyplot as plt\n",
    "import seaborn as sns"
   ]
  },
  {
   "cell_type": "code",
   "execution_count": 2,
   "metadata": {},
   "outputs": [],
   "source": [
    "data = pd.read_csv(r'C:\\Users\\hp\\Resume\\4-Data Analysis\\target_cv.csv',encoding ='ISO-8859-1')#importing data\n"
   ]
  },
  {
   "cell_type": "code",
   "execution_count": 20,
   "metadata": {},
   "outputs": [],
   "source": [
    "from sklearn.preprocessing import LabelEncoder\n",
    "var_mod = ['Category']\n",
    "le = LabelEncoder()\n",
    "for i in var_mod:\n",
    "  data[i] = le.fit_transform(data[i])"
   ]
  },
  {
   "cell_type": "code",
   "execution_count": 3,
   "metadata": {},
   "outputs": [
    {
     "ename": "NameError",
     "evalue": "name 'i' is not defined",
     "output_type": "error",
     "traceback": [
      "\u001b[1;31m---------------------------------------------------------------------------\u001b[0m",
      "\u001b[1;31mNameError\u001b[0m                                 Traceback (most recent call last)",
      "\u001b[1;32m<ipython-input-3-0bc401fe6bcb>\u001b[0m in \u001b[0;36m<module>\u001b[1;34m\u001b[0m\n\u001b[1;32m----> 1\u001b[1;33m \u001b[0mprint\u001b[0m\u001b[1;33m(\u001b[0m\u001b[0mdata\u001b[0m\u001b[1;33m[\u001b[0m\u001b[0mi\u001b[0m\u001b[1;33m]\u001b[0m\u001b[1;33m)\u001b[0m\u001b[1;33m\u001b[0m\u001b[1;33m\u001b[0m\u001b[0m\n\u001b[0m",
      "\u001b[1;31mNameError\u001b[0m: name 'i' is not defined"
     ]
    }
   ],
   "source": [
    "print(data[i])"
   ]
  },
  {
   "cell_type": "code",
   "execution_count": 20,
   "metadata": {},
   "outputs": [],
   "source": [
    "from sklearn.feature_extraction.text import TfidfVectorizer\n",
    "requiredText = data['cleaned_resume'].values\n",
    "requiredTarget = data['Category'].values\n",
    "word_vectorizer = TfidfVectorizer(\n",
    "    sublinear_tf=True,\n",
    "    stop_words='english',\n",
    "    max_features=1500)\n"
   ]
  },
  {
   "cell_type": "code",
   "execution_count": 21,
   "metadata": {},
   "outputs": [
    {
     "data": {
      "text/plain": [
       "TfidfVectorizer(max_features=1500, stop_words='english', sublinear_tf=True)"
      ]
     },
     "execution_count": 21,
     "metadata": {},
     "output_type": "execute_result"
    }
   ],
   "source": [
    "word_vectorizer"
   ]
  },
  {
   "cell_type": "code",
   "execution_count": 22,
   "metadata": {},
   "outputs": [],
   "source": [
    "\n",
    "WordFeatures = word_vectorizer.fit_transform(requiredText)\n",
    " # word_vectorizer.transform(requiredText)"
   ]
  },
  {
   "cell_type": "code",
   "execution_count": 23,
   "metadata": {},
   "outputs": [
    {
     "name": "stdout",
     "output_type": "stream",
     "text": [
      "  (0, 118)\t0.15173760691094335\n",
      "  (0, 874)\t0.08234734525719285\n",
      "  (0, 749)\t0.06046934307858073\n",
      "  (0, 1054)\t0.1357503779742911\n",
      "  (0, 3)\t0.10321700965326713\n",
      "  (0, 404)\t0.05581711800083458\n",
      "  (0, 682)\t0.15014662279543636\n",
      "  (0, 210)\t0.09300271139960467\n",
      "  (0, 365)\t0.07116023249403844\n",
      "  (0, 132)\t0.14222379754922015\n",
      "  (0, 1275)\t0.15746727859067094\n",
      "  (0, 1489)\t0.06751544455987597\n",
      "  (0, 371)\t0.0880403925739492\n",
      "  (0, 741)\t0.08368733479120335\n",
      "  (0, 940)\t0.09300271139960467\n",
      "  (0, 327)\t0.13027717970947966\n",
      "  (0, 1293)\t0.06342984949914147\n",
      "  (0, 386)\t0.13027717970947966\n",
      "  (0, 1385)\t0.09482390589678756\n",
      "  (0, 453)\t0.10566663663467192\n",
      "  (0, 459)\t0.07021336282197983\n",
      "  (0, 713)\t0.07116023249403844\n",
      "  (0, 1301)\t0.07642644375149962\n",
      "  (0, 1060)\t0.10829787786601108\n",
      "  (0, 360)\t0.10566663663467192\n",
      "  :\t:\n",
      "  (99, 1377)\t0.23243555316022105\n",
      "  (99, 643)\t0.17607127272555642\n",
      "  (99, 577)\t0.21002772440805095\n",
      "  (99, 332)\t0.1509070852626032\n",
      "  (99, 96)\t0.21501226699731327\n",
      "  (99, 778)\t0.17607127272555642\n",
      "  (99, 816)\t0.1968555003044064\n",
      "  (99, 167)\t0.2554429472758586\n",
      "  (99, 546)\t0.19294929432549265\n",
      "  (99, 50)\t0.189243496829201\n",
      "  (99, 750)\t0.13564059244701113\n",
      "  (99, 788)\t0.13564059244701113\n",
      "  (99, 1119)\t0.17914608619658576\n",
      "  (99, 952)\t0.21501226699731327\n",
      "  (99, 433)\t0.13394057962018133\n",
      "  (99, 1298)\t0.10408895983586992\n",
      "  (99, 1486)\t0.17312199744711948\n",
      "  (99, 51)\t0.14677754923983036\n",
      "  (99, 130)\t0.13564059244701113\n",
      "  (99, 225)\t0.12161336177687714\n",
      "  (99, 266)\t0.09184897075252366\n",
      "  (99, 1411)\t0.09570306911168222\n",
      "  (99, 775)\t0.10520909408213044\n",
      "  (99, 403)\t0.182357602095645\n",
      "  (99, 1137)\t0.27081850776770683\n"
     ]
    }
   ],
   "source": [
    "print(WordFeatures)"
   ]
  },
  {
   "cell_type": "code",
   "execution_count": 9,
   "metadata": {},
   "outputs": [
    {
     "name": "stdout",
     "output_type": "stream",
     "text": [
      "(70, 1500)\n",
      "(30, 1500)\n"
     ]
    }
   ],
   "source": [
    "from sklearn.model_selection import train_test_split\n",
    "X_train,X_test,y_train,y_test = train_test_split(WordFeatures,requiredTarget,random_state=50, test_size=0.3)\n",
    "print(X_train.shape)\n",
    "print(X_test.shape)"
   ]
  },
  {
   "cell_type": "markdown",
   "metadata": {},
   "source": [
    "# Using K - Nearest Neighbor Classifier"
   ]
  },
  {
   "cell_type": "code",
   "execution_count": 159,
   "metadata": {},
   "outputs": [],
   "source": [
    "from sklearn.neighbors import KNeighborsClassifier\n",
    "from sklearn.multiclass import OneVsRestClassifier\n",
    "model1= OneVsRestClassifier(KNeighborsClassifier())\n",
    "model1.fit(X_train, y_train)\n",
    "\n",
    "prediction = model1.predict(X_test)"
   ]
  },
  {
   "cell_type": "code",
   "execution_count": 160,
   "metadata": {},
   "outputs": [
    {
     "name": "stdout",
     "output_type": "stream",
     "text": [
      "Accuracy of KNeighbors Classifier on training set:0.94\n",
      "Accuracy of KNeighbors Classifier on test set: 0.83\n"
     ]
    }
   ],
   "source": [
    "print('Accuracy of KNeighbors Classifier on training set:{:.2f}'.format(model1.score(X_train, y_train)))\n",
    "print('Accuracy of KNeighbors Classifier on test set: {:.2f}'.format(model1.score(X_test, y_test)))"
   ]
  },
  {
   "cell_type": "code",
   "execution_count": 161,
   "metadata": {},
   "outputs": [
    {
     "name": "stdout",
     "output_type": "stream",
     "text": [
      "83.33333333333334\n"
     ]
    }
   ],
   "source": [
    "from sklearn.metrics import accuracy_score\n",
    "y_pred = model1.predict(X_test)\n",
    "acc= accuracy_score(y_test,y_pred)\n",
    "print(acc*100)"
   ]
  },
  {
   "cell_type": "code",
   "execution_count": 162,
   "metadata": {},
   "outputs": [
    {
     "name": "stdout",
     "output_type": "stream",
     "text": [
      "Accuracy: 0.8333333333333334\n",
      "Precison: 1.0\n",
      "Recall: 0.6428571428571429\n",
      "F1 Score: 0.782608695652174\n"
     ]
    }
   ],
   "source": [
    "from sklearn.metrics import accuracy_score, roc_auc_score, roc_curve, precision_score, recall_score, f1_score, r2_score \n",
    "\n",
    "accuracy_knn = accuracy_score(y_test, prediction)\n",
    "precision_knn = precision_score(y_test,prediction)\n",
    "recall_knn = recall_score(y_test,prediction)\n",
    "f1_score_knn = f1_score(y_test,prediction)\n",
    "print(f\"Accuracy: {accuracy_knn}\")\n",
    "print(f\"Precison: {precision_knn}\")\n",
    "print(f\"Recall: {recall_knn}\")\n",
    "print(f\"F1 Score: {f1_score_knn}\")"
   ]
  },
  {
   "cell_type": "code",
   "execution_count": 163,
   "metadata": {},
   "outputs": [
    {
     "data": {
      "image/png": "[encoded data removed]",
      "text/plain": [
       "<Figure size 432x288 with 1 Axes>"
      ]
     },
     "metadata": {
      "needs_background": "light"
     },
     "output_type": "display_data"
    }
   ],
   "source": [
    "from sklearn.metrics import confusion_matrix\n",
    "cm= confusion_matrix(y_test, prediction) \n",
    "ax = sns.heatmap(cm, square=True, annot=True, cbar=False, cmap='Blues', fmt='g')\n",
    "plt.show()"
   ]
  },
  {
   "cell_type": "code",
   "execution_count": 164,
   "metadata": {},
   "outputs": [
    {
     "data": {
      "image/png": "[encoded data removed]",
      "text/plain": [
       "<Figure size 432x288 with 1 Axes>"
      ]
     },
     "metadata": {
      "needs_background": "light"
     },
     "output_type": "display_data"
    }
   ],
   "source": [
    "from sklearn.metrics import plot_roc_curve,auc\n",
    "\n",
    "knn_disp = plot_roc_curve(model1, X_test, y_test)\n",
    "\n",
    "plt.xlabel('False Positive Rate',fontsize=18,labelpad =10)\n",
    "plt.ylabel('True Positive Rate',fontsize=18)\n",
    "knn_disp.figure_.suptitle(\"Receiver Operating Characteristic Curve\",fontsize=22).set_position([.5, 1.02])\n",
    "plt.show()"
   ]
  },
  {
   "cell_type": "code",
   "execution_count": 165,
   "metadata": {},
   "outputs": [],
   "source": [
    "import pickle\n",
    "pickle.dump(model1, open('knn_model.pkl', 'wb'))"
   ]
  },
  {
   "cell_type": "code",
   "execution_count": 166,
   "metadata": {},
   "outputs": [
    {
     "name": "stdout",
     "output_type": "stream",
     "text": [
      "0.8333333333333334\n"
     ]
    }
   ],
   "source": [
    "import joblib\n",
    "filename = 'knn_model.sav'\n",
    "joblib.dump(model1, open(filename, 'wb'))\n",
    " \n",
    "# some time later...\n",
    " \n",
    "# load the model from disk\n",
    "loaded_model = joblib.load(open(filename, 'rb'))\n",
    "result = loaded_model.score(X_test, y_test)\n",
    "print(result)\n"
   ]
  },
  {
   "cell_type": "markdown",
   "metadata": {},
   "source": [
    "# Using Decision Tree Classifier"
   ]
  },
  {
   "cell_type": "code",
   "execution_count": 173,
   "metadata": {},
   "outputs": [],
   "source": [
    "from sklearn.tree import DecisionTreeClassifier\n",
    "model2 =DecisionTreeClassifier(criterion = 'entropy',random_state =50)\n",
    "model2 =model2.fit(X_train, y_train)\n",
    "y_pred_dt = model2.predict(X_test)"
   ]
  },
  {
   "cell_type": "code",
   "execution_count": 174,
   "metadata": {},
   "outputs": [
    {
     "name": "stdout",
     "output_type": "stream",
     "text": [
      "Accuracy of Decision Tree Classifier on training set: 0.99\n",
      "Accuracy of Decision Tree Classifier on test set: 0.83\n"
     ]
    }
   ],
   "source": [
    "print('Accuracy of Decision Tree Classifier on training set: {:.2f}'.format(model2.score(X_train, y_train)))\n",
    "print('Accuracy of Decision Tree Classifier on test set: {:.2f}'.format(model2.score(X_test, y_test)))"
   ]
  },
  {
   "cell_type": "code",
   "execution_count": 175,
   "metadata": {},
   "outputs": [
    {
     "name": "stdout",
     "output_type": "stream",
     "text": [
      "83.33333333333334\n"
     ]
    }
   ],
   "source": [
    "from sklearn.metrics import accuracy_score\n",
    "y_pred = model2.predict(X_test)\n",
    "acc= accuracy_score(y_test,y_pred)\n",
    "print(acc*100)"
   ]
  },
  {
   "cell_type": "code",
   "execution_count": 176,
   "metadata": {},
   "outputs": [
    {
     "name": "stdout",
     "output_type": "stream",
     "text": [
      "Accuracy: 0.8333333333333334\n",
      "Precison: 0.9090909090909091\n",
      "Recall: 0.7142857142857143\n",
      "F1 Score: 0.8\n"
     ]
    }
   ],
   "source": [
    "from sklearn.metrics import accuracy_score, roc_auc_score, roc_curve, precision_score, recall_score, f1_score, r2_score \n",
    "\n",
    "accuracy_dt= accuracy_score(y_test, y_pred_dt)\n",
    "precision_dt = precision_score(y_test,y_pred_dt)\n",
    "recall_dt = recall_score(y_test,y_pred_dt)\n",
    "f1_score_dt = f1_score(y_test,y_pred_dt)\n",
    "print(f\"Accuracy: {accuracy_dt}\")\n",
    "print(f\"Precison: {precision_dt}\")\n",
    "print(f\"Recall: {recall_dt}\")\n",
    "print(f\"F1 Score: {f1_score_dt}\")"
   ]
  },
  {
   "cell_type": "code",
   "execution_count": 177,
   "metadata": {},
   "outputs": [
    {
     "data": {
      "image/png": "[encoded data removed]",
      "text/plain": [
       "<Figure size 432x288 with 1 Axes>"
      ]
     },
     "metadata": {
      "needs_background": "light"
     },
     "output_type": "display_data"
    }
   ],
   "source": [
    "from sklearn.metrics import confusion_matrix\n",
    "cm= confusion_matrix(y_test, y_pred_dt) \n",
    "ax = sns.heatmap(cm, square=True, annot=True, cbar=False, cmap='Blues', fmt='g')\n",
    "plt.show()"
   ]
  },
  {
   "cell_type": "code",
   "execution_count": 178,
   "metadata": {},
   "outputs": [
    {
     "data": {
      "image/png": "[encoded data removed]",
      "text/plain": [
       "<Figure size 432x288 with 1 Axes>"
      ]
     },
     "metadata": {
      "needs_background": "light"
     },
     "output_type": "display_data"
    }
   ],
   "source": [
    "from sklearn.metrics import plot_roc_curve,auc\n",
    "\n",
    "dt_disp = plot_roc_curve(model2, X_test, y_test)\n",
    "\n",
    "plt.xlabel('False Positive Rate',fontsize=18,labelpad =10)\n",
    "plt.ylabel('True Positive Rate',fontsize=18)\n",
    "dt_disp.figure_.suptitle(\"Receiver Operating Characteristic Curve\",fontsize=22).set_position([.5, 1.02])\n",
    "plt.show()"
   ]
  },
  {
   "cell_type": "code",
   "execution_count": 151,
   "metadata": {},
   "outputs": [],
   "source": [
    "import pickle\n",
    "pickle.dump(model2, open('dt_model.pkl', 'wb'))"
   ]
  },
  {
   "cell_type": "code",
   "execution_count": 179,
   "metadata": {},
   "outputs": [
    {
     "name": "stdout",
     "output_type": "stream",
     "text": [
      "0.8333333333333334\n"
     ]
    }
   ],
   "source": [
    "import joblib\n",
    "filename = 'dt_model.sav'\n",
    "joblib.dump(model2, open(filename, 'wb'))\n",
    " \n",
    "# some time later...\n",
    " \n",
    "# load the model from disk\n",
    "loaded_model = joblib.load(open(filename, 'rb'))\n",
    "result = loaded_model.score(X_test, y_test)\n",
    "print(result)\n"
   ]
  },
  {
   "cell_type": "markdown",
   "metadata": {},
   "source": [
    "# Using Random Forest Classifier"
   ]
  },
  {
   "cell_type": "code",
   "execution_count": 24,
   "metadata": {},
   "outputs": [],
   "source": [
    "from sklearn.ensemble import RandomForestClassifier\n",
    "model3 = RandomForestClassifier(n_estimators = 10,max_depth = 6,criterion ='entropy',random_state = 42)\n",
    "model3.fit(X_train,y_train)\n",
    "y_pred_rf = model3.predict(X_test)"
   ]
  },
  {
   "cell_type": "code",
   "execution_count": 25,
   "metadata": {},
   "outputs": [
    {
     "name": "stdout",
     "output_type": "stream",
     "text": [
      "Accuracy of RandomForest Classifier on training set: 0.99\n",
      "Accuracy of Random Forest Classifier on test set: 0.80\n"
     ]
    }
   ],
   "source": [
    "print('Accuracy of RandomForest Classifier on training set: {:.2f}'.format(model3.score(X_train, y_train)))\n",
    "print('Accuracy of Random Forest Classifier on test set: {:.2f}'.format(model3.score(X_test, y_test)))"
   ]
  },
  {
   "cell_type": "code",
   "execution_count": 26,
   "metadata": {},
   "outputs": [
    {
     "name": "stdout",
     "output_type": "stream",
     "text": [
      "80.0\n"
     ]
    }
   ],
   "source": [
    "from sklearn.metrics import accuracy_score\n",
    "acc= accuracy_score(y_test,y_pred_rf)\n",
    "print(acc*100)"
   ]
  },
  {
   "cell_type": "code",
   "execution_count": 27,
   "metadata": {},
   "outputs": [
    {
     "name": "stdout",
     "output_type": "stream",
     "text": [
      "Accuracy: 0.8\n",
      "Precison: 1.0\n",
      "Recall: 0.5714285714285714\n",
      "F1 Score: 0.7272727272727273\n"
     ]
    }
   ],
   "source": [
    "from sklearn.metrics import accuracy_score, roc_auc_score, roc_curve, precision_score, recall_score, f1_score, r2_score \n",
    "\n",
    "accuracy_rf= accuracy_score(y_test, y_pred_rf)\n",
    "precision_rf = precision_score(y_test,y_pred_rf)\n",
    "recall_rf = recall_score(y_test,y_pred_rf)\n",
    "f1_score_rf = f1_score(y_test,y_pred_rf)\n",
    "print(f\"Accuracy: {accuracy_rf}\")\n",
    "print(f\"Precison: {precision_rf}\")\n",
    "print(f\"Recall: {recall_rf}\")\n",
    "print(f\"F1 Score: {f1_score_rf}\")"
   ]
  },
  {
   "cell_type": "code",
   "execution_count": 28,
   "metadata": {},
   "outputs": [
    {
     "data": {
      "image/png": "[encoded data removed]",
      "text/plain": [
       "<Figure size 432x288 with 1 Axes>"
      ]
     },
     "metadata": {
      "needs_background": "light"
     },
     "output_type": "display_data"
    }
   ],
   "source": [
    "from sklearn.metrics import confusion_matrix\n",
    "cm= confusion_matrix(y_test, y_pred_rf) \n",
    "ax = sns.heatmap(cm, square=True, annot=True, cbar=False, cmap='Blues', fmt='g')\n",
    "plt.show()"
   ]
  },
  {
   "cell_type": "code",
   "execution_count": 29,
   "metadata": {},
   "outputs": [
    {
     "data": {
      "image/png": "[encoded data removed]",
      "text/plain": [
       "<Figure size 432x288 with 1 Axes>"
      ]
     },
     "metadata": {
      "needs_background": "light"
     },
     "output_type": "display_data"
    }
   ],
   "source": [
    "from sklearn.metrics import plot_roc_curve,auc\n",
    "\n",
    "rf_disp = plot_roc_curve(model3, X_test, y_test)\n",
    "\n",
    "plt.xlabel('False Positive Rate',fontsize=18,labelpad =10)\n",
    "plt.ylabel('True Positive Rate',fontsize=18)\n",
    "rf_disp.figure_.suptitle(\"Receiver Operating Characteristic Curve\",fontsize=22).set_position([.5, 1.02])\n",
    "plt.show()"
   ]
  },
  {
   "cell_type": "code",
   "execution_count": 31,
   "metadata": {},
   "outputs": [],
   "source": [
    "import pickle\n",
    "pickle.dump(word_vectorizer.vocabulary_, open('rf-model.pkl', 'wb'))"
   ]
  },
  {
   "cell_type": "code",
   "execution_count": 33,
   "metadata": {},
   "outputs": [],
   "source": [
    "from sklearn.feature_extraction.text import TfidfTransformer\n"
   ]
  },
  {
   "cell_type": "code",
   "execution_count": 34,
   "metadata": {},
   "outputs": [],
   "source": [
    "transformer = TfidfTransformer()\n",
    "loaded_vec = TfidfVectorizer(sublinear_tf=True,\n",
    "    stop_words='english',\n",
    "    max_features=1500,vocabulary=pickle.load(open(\"rf-model.pkl\", \"rb\")))\n"
   ]
  },
  {
   "cell_type": "code",
   "execution_count": null,
   "metadata": {},
   "outputs": [],
   "source": []
  },
  {
   "cell_type": "code",
   "execution_count": 38,
   "metadata": {},
   "outputs": [],
   "source": [
    "see =pickle.load(open(\"rf-model.pkl\", \"rb\")) "
   ]
  },
  {
   "cell_type": "code",
   "execution_count": 43,
   "metadata": {},
   "outputs": [],
   "source": [
    "tfidf = transformer.fit_transform(loaded_vec.fit_transform(['''Khawaja Aqil Ahmed CV Page 1 of 6  B-37, Abdullah Terrace, Block-16 Cell #: 0333-3801072\n",
    "Gulistan-e-Johar opposite Continental Bakery 0303-2624491\n",
    "Karachi. E-mail: aqahmed@euronetworldwide.com\n",
    "aaaqil.ahmed@gmail.com\n",
    "Khawaja Aqil Ahmed\n",
    "OBJECTIIVE:: I want to work for an Organization to serve my technical expertise & managerial skill with full devotion beneficial for my career as well as for the organization.\n",
    "ACADEMIIC - Master in Public Administration (MPA), bi-major specialization in MIS & QUALIIFIICATIION:: Finance from Karachi University in Year 2002 with ‘1st Division’\n",
    "- Bachelor in Commerce (B.Com) from Karachi University in Year 1995\n",
    "with ‘2nd Division’.\n",
    "PROFESSIIONAL - 2 Years International Diploma in Computer Sciences from College of QUALIIFIICATIION:: Digital Sciences (CDS) affiliated with NCC UK in Year 1996 with ‘Distinction’\n",
    "- 3 Years Diploma of Associate Engineer in Electrical Technology from\n",
    "Govt. Saifee Eide Zahabi Institute of Technology in Year 1995 with ‘1st Division’.\n",
    "PROFESSIIONAL CAREER SUMMARY::\n",
    " 20+ years of working experience of IBM AS/400 platform\n",
    " 10+ years of experience in payment system industry\n",
    " Independently involve in projects with payment associations and drive them towards successful completion.\n",
    " Experience of performing gap analysis and technical process enhancement\n",
    " Formulate Project Schedules and execute Implementation phase of Projects after Sale-cycle\n",
    " Customer Expectations Management throughout the Execution stage and closing stage\n",
    " Managing different project execution steps by integrating and\n",
    "communicating with cross-functional teams\n",
    " In depth knowledge of Electronic Financial Transactions (EFT) from card\n",
    "setup to live implementation, Card & Payment Operations, EMV, ATM,\n",
    " CCDM, POS, ISO 8583/87/93, Hypercom\n",
    " Develop RPG/400 PGMs/APIs/Bit Functions/User Exits for different projects\n",
    " Skilled & individually involved in Visa, MasterCard Certification\n",
    " Hands on experience in EFT simulators & utilities like VTS etc.\n",
    " Understanding of PCI DSS & PA DSS including application level security\n",
    "standards and best practices.\n",
    "Khawaja Aqil Ahmed CV Page 2 of 6\n",
    "WORK EXPERIIENCE::\n",
    "Euronet Pakistan (Pvt.) Ltd (Since May-2011 to till date as\n",
    "Manager – AD&P, Asst. Manager – ADP & Sr. Application Consultant)\n",
    "Euronet Pakistan, a subsidiary of Euronet Worldwide brings with it the experience of the world’s largest global provider dedicated to banking and payments technologies. Euronet Pakistan is poised to offer the best blend of technology and outsourcing services to all Pakistani banks from its state of the art facility in Karachi, Pakistan. Backed by the very best talent in the local industry we provide an unmatched flexibility, scalability and SLA-based services.\n",
    "With a rich history in the financial services sector, Euronet serves more than 300 institutions in over 150 countries which includes both software based and EFT processing customers. Euronet has the most comprehensive range of solutions for the broadest range of financial markets and holds leadership positions in payment processing and banking solutions, providing software, services and outsourcing of these payment technologies. Euronet develops synergistic solutions to make payments secure, faster while adding value to your business.\n",
    "Responsibilities & achievements: -\n",
    " Project Management & Implementation\n",
    " Certifications\n",
    " Alternate Delivery Channel Configuration & Setup\n",
    " Compliance/Upgrades and Patch management.\n",
    " Coordination and follow up\n",
    " Project Analysis\n",
    " Support Project Technical Documentation & Manuals\n",
    "Working Areas:\n",
    "• ATM & CCDM Configuration/Setup, State & Screen Programming\n",
    "Specialized in State & Screen Programming from scratch to end or\n",
    "updation/addition of new services or new features on machine as per bank\n",
    "requirement.\n",
    "Clients: MCB Bank, Barclays Bank, Burj Bank, Bank alBaraka, First Women Bank,\n",
    "Waseela Microfinance Bank, National Bank of Pakistan.\n",
    "• Branchless Banking Setup\n",
    "Expertise in Branchless banking project setup with respect to issuing and acquiring.\n",
    "Clients: MCB Bank (Lite) and Waseela Microfinance Bank (Mobi Cash).\n",
    "• Certification\n",
    "Involve in 3rd Party Scheme (VISA/MasterCard) issuing & acquiring certification. Also participate in local switch certification w.r.t shared ATMs Utility Bill Payment Service and Interbank Fund Transfer.\n",
    "Clients: MCB Bank, Barclays Bank, Burj Bank, Bank alBaraka, Waseela\n",
    "Khawaja Aqil Ahmed CV Page 3 of 6\n",
    "Microfinance Bank, National Bank of Pakistan.\n",
    "• Production or Post go-live issues handling\n",
    "Effectively handling of production critical issues pertain to clients. Also support\n",
    "after project post go-live issues till smooth run.\n",
    "• Amendments in existing RPG APIs/User Exits/Bit Functions\n",
    "Changes in customized programs as per bank requirement.\n",
    "• Settlement/Audit Reports & Extracts\n",
    "Provide support to create settlement/Audit Reports & Extracts.\n",
    "MNET Services (Pvt.) Ltd (Since Nov-2007 to Apr-2011 as Payment System Analyst)\n",
    "MNET is the wholly owned subsidiary of MCB Bank Limited and provides development, networking and HR outsourcing services to the bank. MNET operates ATM networks (Euronet) for secure, online, real time financial transaction comprising of 612 ATMs in 50 cities.\n",
    "Responsibilities & achievements: -\n",
    " Settlement and Merchant Payments\n",
    " Project Implementation.\n",
    " Certifications-Member bank compliance to MNET specifications.\n",
    " ATM Enhancement.\n",
    " Compliance/Upgrades and Patch management.\n",
    " Coordination and follow up with Vendor.\n",
    " UAT\n",
    "Projects:\n",
    "• ATM Configuration, State & Screen Programming\n",
    "Addition/Configuration of ATM on controller. Expertise in State & Screen\n",
    "Programming for addition of new services or new features.\n",
    "• MCB Mobile Banking Project\n",
    "Fully participation in MCB Mobile Banking Project, Technical Specification,\n",
    "documentation, Coordination, Configuration/Setup, SIT, UAT, Settlement, Go\n",
    "Live activity and Post go-live issues handling.\n",
    "• Inter-Switch Pre-reconciliation (MNET/1LINK)\n",
    "The main objective of project is to minimize the disputes between both\n",
    "switches and generate settlement reports to respective member banks as\n",
    "well as State Bank of Pakistan.\n",
    "• Migration of Citibank Link from X.25 to TCP/IP\n",
    "Citibank ATM communication link migration.\n",
    "• Certification of Banks on MNET Switch\n",
    "Compliance of Arif Habib Rupali, JS Bank and SME Bank in accordance to the\n",
    "MNET specification in order for their transactions to be carried out in MNET\n",
    "switch Euronet configuration.\n",
    "• Utility Bill Payment through ATM\n",
    "Developed various modules for bill payment & mobile Top-ups of Utilities/Telco\n",
    "companies through ATM.\n",
    "• Inter-Bank Fund Transfer (IBFT)\n",
    "Khawaja Aqil Ahmed CV Page 4 of 6\n",
    "System analysis & design for IBFT Project.\n",
    "M/S ISF – Software House (Since Jan-2007 to Oct-2007 as Project Manager)\n",
    "Responsibilities & achievements: -\n",
    "- Reporting to the CEO of ISF, worked as a vender posted at MNET Services (Pvt.) Ltd.\n",
    "- Develop and manage documents comprising of agreements, process flows, issue resolution reports, development manuals, technical specifications, project plans for MNET projects.\n",
    "- Involved in RPG/400 based API/PGM & configuration for MNET member banks.\n",
    "- Resolved operational issues of MNET switch.\n",
    "- Involved in Euronet configuration for MNET member banks.\n",
    "Projects:\n",
    "i. PRERCON (Settlement Process between two local switch)\n",
    "ii. UBPS (Utility Bills Payment via ATM Channel)\n",
    "Pakistan Revenue Automation (Pvt.) Limited (Since Mar-1997 to Dec-2006)\n",
    "(A Company owned by Federal Board of Revenue, Government of Pakistan)\n",
    "- Period Mar-1997 to Dec-1997 as an Assistant System Administrator\n",
    "Environment: IBM AS/400, OS/400 & SQL/400\n",
    "Nature of work: Involved in Monitoring & trouble-shooting of IBM AS/400 System,\n",
    "coordination with M/s SAZTEL regarding remote communication devices, monitor\n",
    "mirroring of main system to backup, routine backup of data and Users complains\n",
    "and queries handling.\n",
    "- Period Jan-1998 to Dec-1998 as In-charge Customs Information Services Centre\n",
    "Environment: Windows 3.1, Windows 95/98, C++, MS Access, VIS System & LAN\n",
    "Staff under control: Six (6), 1 Facilitation Officer, 1 Database Administrator\n",
    "2 Data Entry Operators & 2 Data Verifier\n",
    "Nature of work: Fully involved in design, programming, testing & implementation\n",
    "of VIS System. Maintain Local Area Networking of whole office. Data handling &\n",
    "processing. Manage staff of CIS Centre.\n",
    "- Period Jan-1999 to Jun-2002 as Regional Network Coordinator\n",
    "Environment: IBM AS/400, OS/400 & Motorola Remote Communication Devices\n",
    "Staff under control: Six (6), 4 Network Engineer & 2 Hardware Engineer\n",
    "Nature of work: Infra-structure of Pakistan Customs’ Computer Remote\n",
    "Network of 19 locations i.e KPT West Wharf Examination Sheds & Gates,\n",
    "KPT East Wharf Examination Sheds & Gates, KICT, Auction Shed, QICT, Port\n",
    "Qasim Custom House, AFU Exports, AFU Imports and ICG etc.\n",
    "- Period Jul-2002 to May-2003 as Project Manager – Export Facilitation Centre\n",
    "Environment: IBM AS/400, OS/400, IBM Client Access & WAN Technology\n",
    "Staff under control: Forty Two (42), 1 User Assistant, 2 Supervisors, 1 Facilitation\n",
    "Officer, 2 Exception Handing Officer\n",
    "1 Network/Hardware Technician, 15 DEO,\n",
    "10 Data Verifier, 6 Counter Handling Staff\n",
    "2 Runner, 1 Office Boy and 1 Driver\n",
    "Average Workload per day: 500 Export Documents (GDs)\n",
    "Khawaja Aqil Ahmed CV Page 5 of 6\n",
    "Annual Revenue: PK Rs. 7.5 million\n",
    "Nature of work: - Fully involved in Finalization of EFC Layout Plan – Get\n",
    "approvals from Pakistan Customs, KPT and EPB – Tendering of Civil,\n",
    "Electrical, Computer Cabling, Furniture & Fixture and Computer Equipment\n",
    "- Processing of all said Tenders – Involved in EFC System Design & Development\n",
    "- Recruitment & Training of newly hired staff for EFC – Coordination with\n",
    "different stack holders like Customs, KPT, EPB, KCAG, Shipping Companies,\n",
    "Computer Bureau, PTCL, Coupon Printing Press etc. regarding EFC issues –\n",
    "Officially Inauguration of EFC – Successfully implementation the EFC\n",
    "policies and smoothly operation handover to new Project Manager.\n",
    "- Period Jun-2003 to Sep-2003 as Computer Instructor of I.T Skill Development Prog.\n",
    "Environment: Windows XP, Office XP, Internet & Web based CVIS System\n",
    "Staff under control: Four (4), 3 Computer Lab Assistants, 1 Office Boy\n",
    "No. of Participants: 72 staff members of Customs Valuation Department\n",
    "Nature of work: Training Programme specially designed for Top to Bottom\n",
    "Level of Customs Valuation Departmental Staff (Deputy Controller,\n",
    "Assistant Controller, Principal Appraiser, Valuation Officers, Suprt., UDC,\n",
    "LDC etc.)\n",
    "- Period Oct-2003 to Feb-2004 as Computer Instructor of Computer Literacy Prog.\n",
    "Environment: Windows XP, Office XP, Internet & Web based CVIS System\n",
    "Staff under control: Four (4), 3 Computer Lab Assistants, 1 Office Boy\n",
    "No. of Participants: 350 staff members of Customs Appraisement Collectorate\n",
    "Nature of work: With the coordination of Customs Coordinator of TEPI\n",
    "Project, a Computer Literacy Programme launched for lower staff (Suprt.,\n",
    "UDC, LDC, RS etc.) of Customs Appraisement Collectorate for\n",
    "improvement of IT Skill.\n",
    "- Period Mar-2004 to Nov-2004 as Project Manager – Customer Services Centre\n",
    "- Period May-2005 to Sep-2005 as Budget Coordinator – Customer Services Centre\n",
    "Environment: IBM AS/400, OS/400, IBM Client Access\n",
    "Staff under control: Sixty Seven (67), 2 User Assistant, 2 Supervisors, 1 Facilitation\n",
    "Officer, 4 Exception Handing Officer\n",
    "2 Network/Hardware Technician, 34 GD\n",
    "Processing Officer, 18 MNO, 1 Accountant\n",
    "1 Runner, 1 Office Boy and 1 Driver\n",
    "Average Workload per day: 1000 - 1200 Import Documents (GDs)\n",
    "Annual Revenue: PK Rs. 14.5 million\n",
    "Nature of work: - Over all management of Customer Services Centre,\n",
    "maintain staff performance level check, manage imprest account,\n",
    "maintain motivation factor in staff to increase productivity of work,\n",
    "Coordination with Customs, Shipping Companies, Clearing Agents, AIB\n",
    "and CPF/CWT regarding day to day CSC issues, Improvement in existing\n",
    "system and setup to minimize the processing time of GD, Budget Activities\n",
    "2003-2004 and 2004-2005 successfully completed without any pressure.\n",
    "- Period Dec-2004 to Dec-2006 as Project Manager – Export Facilitation Centre\n",
    "Environment: IBM AS/400, OS/400, IBM Client Access & WAN Technology\n",
    "Staff under control: Forty Two (42), 1 User Assistant, 2 Supervisors, 1 Facilitation\n",
    "Officer, 2 Exception Handing Officer\n",
    "1 Network/Hardware Technician, 15 DEO,\n",
    "10 Data Verifier, 6 Counter Handling Staff\n",
    "2 Runner, 1 Office Boy and 1 Driver\n",
    "Khawaja Aqil Ahmed CV Page 6 of 6\n",
    "Average Workload per day: 500 Export Documents (GDs)\n",
    "Annual Revenue: PK Rs. 7.5 million\n",
    "Nature of work: - First to removed the mismanagement culture at EFC\n",
    "within a month, transparent daily transaction record keeping, maintain\n",
    "staff performance level check, manage routine tasks, look-after imprest\n",
    "account. Coordination with different stack holders like Customs, KPT,\n",
    "KCAG, Shipping Companies, Computer Bureau, etc. regarding EFC\n",
    "routine issues, improvement in existing system and setup.\n",
    "PERSONAL - NIC # 42101-7640606-3 I\n",
    "INFORMATIION:: - Passport # A2378679\n",
    "- NTN # 1130343\n",
    "- Married\n",
    "- Nationality - Pakistani''']))"
   ]
  },
  {
   "cell_type": "code",
   "execution_count": 44,
   "metadata": {},
   "outputs": [
    {
     "data": {
      "text/plain": [
       "<1x1500 sparse matrix of type '<class 'numpy.float64'>'\n",
       "\twith 194 stored elements in Compressed Sparse Row format>"
      ]
     },
     "execution_count": 44,
     "metadata": {},
     "output_type": "execute_result"
    }
   ],
   "source": [
    "tfidf"
   ]
  },
  {
   "cell_type": "code",
   "execution_count": 42,
   "metadata": {},
   "outputs": [
    {
     "ename": "AttributeError",
     "evalue": "'dict' object has no attribute 'predict'",
     "output_type": "error",
     "traceback": [
      "\u001b[1;31m---------------------------------------------------------------------------\u001b[0m",
      "\u001b[1;31mAttributeError\u001b[0m                            Traceback (most recent call last)",
      "\u001b[1;32m<ipython-input-42-f81331a3b8c1>\u001b[0m in \u001b[0;36m<module>\u001b[1;34m\u001b[0m\n\u001b[1;32m----> 1\u001b[1;33m \u001b[0msee\u001b[0m\u001b[1;33m.\u001b[0m\u001b[0mpredict\u001b[0m\u001b[1;33m(\u001b[0m\u001b[1;33m[\u001b[0m\u001b[0mtfidf\u001b[0m\u001b[1;33m]\u001b[0m\u001b[1;33m)\u001b[0m\u001b[1;33m\u001b[0m\u001b[1;33m\u001b[0m\u001b[0m\n\u001b[0m",
      "\u001b[1;31mAttributeError\u001b[0m: 'dict' object has no attribute 'predict'"
     ]
    }
   ],
   "source": [
    "see.predict(tfidf)"
   ]
  },
  {
   "cell_type": "code",
   "execution_count": 195,
   "metadata": {},
   "outputs": [
    {
     "name": "stdout",
     "output_type": "stream",
     "text": [
      "0.8\n"
     ]
    }
   ],
   "source": [
    "import joblib\n",
    "filename = 'rf_model.sav'\n",
    "joblib.dump(model3, open(filename, 'wb'))\n",
    " \n",
    "# some time later...\n",
    " \n",
    "# load the model from disk\n",
    "loaded_model = joblib.load(open(filename, 'rb'))\n",
    "result = loaded_model.score(X_test, y_test)\n",
    "print(result)\n"
   ]
  },
  {
   "cell_type": "markdown",
   "metadata": {},
   "source": [
    "# Using XG Boost Classifier"
   ]
  },
  {
   "cell_type": "code",
   "execution_count": 74,
   "metadata": {},
   "outputs": [
    {
     "name": "stderr",
     "output_type": "stream",
     "text": [
      "C:\\Users\\hp\\anaconda3\\lib\\site-packages\\xgboost\\sklearn.py:1146: UserWarning: The use of label encoder in XGBClassifier is deprecated and will be removed in a future release. To remove this warning, do the following: 1) Pass option use_label_encoder=False when constructing XGBClassifier object; and 2) Encode your labels (y) as integers starting with 0, i.e. 0, 1, 2, ..., [num_class - 1].\n",
      "  warnings.warn(label_encoder_deprecation_msg, UserWarning)\n"
     ]
    },
    {
     "name": "stdout",
     "output_type": "stream",
     "text": [
      "[13:15:05] WARNING: C:/Users/Administrator/workspace/xgboost-win64_release_1.4.0/src/learner.cc:1095: Starting in XGBoost 1.3.0, the default evaluation metric used with the objective 'binary:logistic' was changed from 'error' to 'logloss'. Explicitly set eval_metric if you'd like to restore the old behavior.\n",
      "Feature Importances :  [0. 0. 0. ... 0. 0. 0.]\n"
     ]
    },
    {
     "data": {
      "image/png": "[encoded data removed]",
      "text/plain": [
       "<Figure size 432x288 with 1 Axes>"
      ]
     },
     "metadata": {
      "needs_background": "light"
     },
     "output_type": "display_data"
    }
   ],
   "source": [
    "from xgboost import XGBClassifier\n",
    "from xgboost import plot_importance\n",
    "\n",
    "# fit model to training data\n",
    "xgb_model = XGBClassifier(random_state = 0 )\n",
    "xgb_model.fit(X_train, y_train)\n",
    "\n",
    "print(\"Feature Importances : \", xgb_model.feature_importances_)\n",
    "\n",
    "# plot feature importance\n",
    "plot_importance(xgb_model)\n",
    "plt.show()"
   ]
  },
  {
   "cell_type": "code",
   "execution_count": 75,
   "metadata": {},
   "outputs": [],
   "source": [
    "from sklearn.feature_selection import SelectFromModel\n",
    "from sklearn.metrics import accuracy_score, f1_score\n"
   ]
  },
  {
   "cell_type": "code",
   "execution_count": 77,
   "metadata": {},
   "outputs": [
    {
     "name": "stdout",
     "output_type": "stream",
     "text": [
      "[13:17:46] WARNING: C:/Users/Administrator/workspace/xgboost-win64_release_1.4.0/src/learner.cc:1095: Starting in XGBoost 1.3.0, the default evaluation metric used with the objective 'binary:logistic' was changed from 'error' to 'logloss'. Explicitly set eval_metric if you'd like to restore the old behavior.\n",
      "[13:17:46] WARNING: C:/Users/Administrator/workspace/xgboost-win64_release_1.4.0/src/learner.cc:1095: Starting in XGBoost 1.3.0, the default evaluation metric used with the objective 'binary:logistic' was changed from 'error' to 'logloss'. Explicitly set eval_metric if you'd like to restore the old behavior.\n"
     ]
    },
    {
     "data": {
      "text/plain": [
       "XGBClassifier(base_score=0.5, booster='gbtree', colsample_bylevel=1,\n",
       "              colsample_bynode=1, colsample_bytree=1, gamma=0, gpu_id=-1,\n",
       "              importance_type='gain', interaction_constraints='',\n",
       "              learning_rate=0.300000012, max_delta_step=0, max_depth=6,\n",
       "              min_child_weight=1, missing=nan, monotone_constraints='()',\n",
       "              n_estimators=100, n_jobs=4, num_parallel_tree=1, random_state=0,\n",
       "              reg_alpha=0, reg_lambda=1, scale_pos_weight=1, subsample=1,\n",
       "              tree_method='exact', validate_parameters=1, verbosity=None)"
      ]
     },
     "execution_count": 77,
     "metadata": {},
     "output_type": "execute_result"
    }
   ],
   "source": [
    "selection = SelectFromModel(xgb_model)\n",
    "selection.fit(X_train, y_train)\n",
    "\n",
    "# Transform the train and test features\n",
    "select_X_train = selection.transform(X_train)\n",
    "select_X_test = selection.transform(X_test) \n",
    "\n",
    "# train model\n",
    "selection_model = XGBClassifier()\n",
    "selection_model.fit(select_X_train, y_train)"
   ]
  },
  {
   "cell_type": "code",
   "execution_count": 79,
   "metadata": {},
   "outputs": [
    {
     "name": "stdout",
     "output_type": "stream",
     "text": [
      "XGB Baseline Model Accuracy: 0.78\n",
      "XGB Baseline Model F1 Score: 0.7027027027027026\n"
     ]
    }
   ],
   "source": [
    "Y_pred = xgb_model.predict(X_test)\n",
    "\n",
    "xgb_ac = accuracy_score(y_test, Y_pred)\n",
    "xgb_fscore = f1_score(y_test ,Y_pred)\n",
    "\n",
    "print(\"XGB Baseline Model Accuracy:\", xgb_ac)\n",
    "print(\"XGB Baseline Model F1 Score:\", xgb_fscore)"
   ]
  },
  {
   "cell_type": "code",
   "execution_count": 80,
   "metadata": {},
   "outputs": [
    {
     "name": "stdout",
     "output_type": "stream",
     "text": [
      "Limited Features XGBoost Model Accuracy: 0.78\n",
      "Limited Features XGBoost Model F1 Score: 0.7027027027027026\n"
     ]
    }
   ],
   "source": [
    "prediction= selection_model.predict(select_X_test)      # predict for selected features of X_test\n",
    "xgb_accuracy = accuracy_score(y_test, prediction)        # Calculating accuracy score on test data\n",
    "xgb_fscore = f1_score(y_test , prediction)               # Calculating F1 score on test data\n",
    "\n",
    "\n",
    "# View The Accuracy Of Our Limited Feature (4 Features) Model\n",
    "print(\"Limited Features XGBoost Model Accuracy:\", xgb_accuracy)\n",
    "print(\"Limited Features XGBoost Model F1 Score:\", xgb_fscore)"
   ]
  },
  {
   "cell_type": "code",
   "execution_count": 34,
   "metadata": {},
   "outputs": [
    {
     "data": {
      "text/plain": [
       "array([0], dtype=int64)"
      ]
     },
     "execution_count": 34,
     "metadata": {},
     "output_type": "execute_result"
    }
   ],
   "source": [
    "test_feature = word_vectorizer.transform(['''Khawaja Aqil Ahmed CV Page 1 of 6  B-37, Abdullah Terrace, Block-16 Cell #: 0333-3801072\n",
    "Gulistan-e-Johar opposite Continental Bakery 0303-2624491\n",
    "Karachi. E-mail: aqahmed@euronetworldwide.com\n",
    "aaaqil.ahmed@gmail.com\n",
    "Khawaja Aqil Ahmed\n",
    "OBJECTIIVE:: I want to work for an Organization to serve my technical expertise & managerial skill with full devotion beneficial for my career as well as for the organization.\n",
    "ACADEMIIC - Master in Public Administration (MPA), bi-major specialization in MIS & QUALIIFIICATIION:: Finance from Karachi University in Year 2002 with ‘1st Division’\n",
    "- Bachelor in Commerce (B.Com) from Karachi University in Year 1995\n",
    "with ‘2nd Division’.\n",
    "PROFESSIIONAL - 2 Years International Diploma in Computer Sciences from College of QUALIIFIICATIION:: Digital Sciences (CDS) affiliated with NCC UK in Year 1996 with ‘Distinction’\n",
    "- 3 Years Diploma of Associate Engineer in Electrical Technology from\n",
    "Govt. Saifee Eide Zahabi Institute of Technology in Year 1995 with ‘1st Division’.\n",
    "PROFESSIIONAL CAREER SUMMARY::\n",
    " 20+ years of working experience of IBM AS/400 platform\n",
    " 10+ years of experience in payment system industry\n",
    " Independently involve in projects with payment associations and drive them towards successful completion.\n",
    " Experience of performing gap analysis and technical process enhancement\n",
    " Formulate Project Schedules and execute Implementation phase of Projects after Sale-cycle\n",
    " Customer Expectations Management throughout the Execution stage and closing stage\n",
    " Managing different project execution steps by integrating and\n",
    "communicating with cross-functional teams\n",
    " In depth knowledge of Electronic Financial Transactions (EFT) from card\n",
    "setup to live implementation, Card & Payment Operations, EMV, ATM,\n",
    " CCDM, POS, ISO 8583/87/93, Hypercom\n",
    " Develop RPG/400 PGMs/APIs/Bit Functions/User Exits for different projects\n",
    " Skilled & individually involved in Visa, MasterCard Certification\n",
    " Hands on experience in EFT simulators & utilities like VTS etc.\n",
    " Understanding of PCI DSS & PA DSS including application level security\n",
    "standards and best practices.\n",
    "Khawaja Aqil Ahmed CV Page 2 of 6\n",
    "WORK EXPERIIENCE::\n",
    "Euronet Pakistan (Pvt.) Ltd (Since May-2011 to till date as\n",
    "Manager – AD&P, Asst. Manager – ADP & Sr. Application Consultant)\n",
    "Euronet Pakistan, a subsidiary of Euronet Worldwide brings with it the experience of the world’s largest global provider dedicated to banking and payments technologies. Euronet Pakistan is poised to offer the best blend of technology and outsourcing services to all Pakistani banks from its state of the art facility in Karachi, Pakistan. Backed by the very best talent in the local industry we provide an unmatched flexibility, scalability and SLA-based services.\n",
    "With a rich history in the financial services sector, Euronet serves more than 300 institutions in over 150 countries which includes both software based and EFT processing customers. Euronet has the most comprehensive range of solutions for the broadest range of financial markets and holds leadership positions in payment processing and banking solutions, providing software, services and outsourcing of these payment technologies. Euronet develops synergistic solutions to make payments secure, faster while adding value to your business.\n",
    "Responsibilities & achievements: -\n",
    " Project Management & Implementation\n",
    " Certifications\n",
    " Alternate Delivery Channel Configuration & Setup\n",
    " Compliance/Upgrades and Patch management.\n",
    " Coordination and follow up\n",
    " Project Analysis\n",
    " Support Project Technical Documentation & Manuals\n",
    "Working Areas:\n",
    "• ATM & CCDM Configuration/Setup, State & Screen Programming\n",
    "Specialized in State & Screen Programming from scratch to end or\n",
    "updation/addition of new services or new features on machine as per bank\n",
    "requirement.\n",
    "Clients: MCB Bank, Barclays Bank, Burj Bank, Bank alBaraka, First Women Bank,\n",
    "Waseela Microfinance Bank, National Bank of Pakistan.\n",
    "• Branchless Banking Setup\n",
    "Expertise in Branchless banking project setup with respect to issuing and acquiring.\n",
    "Clients: MCB Bank (Lite) and Waseela Microfinance Bank (Mobi Cash).\n",
    "• Certification\n",
    "Involve in 3rd Party Scheme (VISA/MasterCard) issuing & acquiring certification. Also participate in local switch certification w.r.t shared ATMs Utility Bill Payment Service and Interbank Fund Transfer.\n",
    "Clients: MCB Bank, Barclays Bank, Burj Bank, Bank alBaraka, Waseela\n",
    "Khawaja Aqil Ahmed CV Page 3 of 6\n",
    "Microfinance Bank, National Bank of Pakistan.\n",
    "• Production or Post go-live issues handling\n",
    "Effectively handling of production critical issues pertain to clients. Also support\n",
    "after project post go-live issues till smooth run.\n",
    "• Amendments in existing RPG APIs/User Exits/Bit Functions\n",
    "Changes in customized programs as per bank requirement.\n",
    "• Settlement/Audit Reports & Extracts\n",
    "Provide support to create settlement/Audit Reports & Extracts.\n",
    "MNET Services (Pvt.) Ltd (Since Nov-2007 to Apr-2011 as Payment System Analyst)\n",
    "MNET is the wholly owned subsidiary of MCB Bank Limited and provides development, networking and HR outsourcing services to the bank. MNET operates ATM networks (Euronet) for secure, online, real time financial transaction comprising of 612 ATMs in 50 cities.\n",
    "Responsibilities & achievements: -\n",
    " Settlement and Merchant Payments\n",
    " Project Implementation.\n",
    " Certifications-Member bank compliance to MNET specifications.\n",
    " ATM Enhancement.\n",
    " Compliance/Upgrades and Patch management.\n",
    " Coordination and follow up with Vendor.\n",
    " UAT\n",
    "Projects:\n",
    "• ATM Configuration, State & Screen Programming\n",
    "Addition/Configuration of ATM on controller. Expertise in State & Screen\n",
    "Programming for addition of new services or new features.\n",
    "• MCB Mobile Banking Project\n",
    "Fully participation in MCB Mobile Banking Project, Technical Specification,\n",
    "documentation, Coordination, Configuration/Setup, SIT, UAT, Settlement, Go\n",
    "Live activity and Post go-live issues handling.\n",
    "• Inter-Switch Pre-reconciliation (MNET/1LINK)\n",
    "The main objective of project is to minimize the disputes between both\n",
    "switches and generate settlement reports to respective member banks as\n",
    "well as State Bank of Pakistan.\n",
    "• Migration of Citibank Link from X.25 to TCP/IP\n",
    "Citibank ATM communication link migration.\n",
    "• Certification of Banks on MNET Switch\n",
    "Compliance of Arif Habib Rupali, JS Bank and SME Bank in accordance to the\n",
    "MNET specification in order for their transactions to be carried out in MNET\n",
    "switch Euronet configuration.\n",
    "• Utility Bill Payment through ATM\n",
    "Developed various modules for bill payment & mobile Top-ups of Utilities/Telco\n",
    "companies through ATM.\n",
    "• Inter-Bank Fund Transfer (IBFT)\n",
    "Khawaja Aqil Ahmed CV Page 4 of 6\n",
    "System analysis & design for IBFT Project.\n",
    "M/S ISF – Software House (Since Jan-2007 to Oct-2007 as Project Manager)\n",
    "Responsibilities & achievements: -\n",
    "- Reporting to the CEO of ISF, worked as a vender posted at MNET Services (Pvt.) Ltd.\n",
    "- Develop and manage documents comprising of agreements, process flows, issue resolution reports, development manuals, technical specifications, project plans for MNET projects.\n",
    "- Involved in RPG/400 based API/PGM & configuration for MNET member banks.\n",
    "- Resolved operational issues of MNET switch.\n",
    "- Involved in Euronet configuration for MNET member banks.\n",
    "Projects:\n",
    "i. PRERCON (Settlement Process between two local switch)\n",
    "ii. UBPS (Utility Bills Payment via ATM Channel)\n",
    "Pakistan Revenue Automation (Pvt.) Limited (Since Mar-1997 to Dec-2006)\n",
    "(A Company owned by Federal Board of Revenue, Government of Pakistan)\n",
    "- Period Mar-1997 to Dec-1997 as an Assistant System Administrator\n",
    "Environment: IBM AS/400, OS/400 & SQL/400\n",
    "Nature of work: Involved in Monitoring & trouble-shooting of IBM AS/400 System,\n",
    "coordination with M/s SAZTEL regarding remote communication devices, monitor\n",
    "mirroring of main system to backup, routine backup of data and Users complains\n",
    "and queries handling.\n",
    "- Period Jan-1998 to Dec-1998 as In-charge Customs Information Services Centre\n",
    "Environment: Windows 3.1, Windows 95/98, C++, MS Access, VIS System & LAN\n",
    "Staff under control: Six (6), 1 Facilitation Officer, 1 Database Administrator\n",
    "2 Data Entry Operators & 2 Data Verifier\n",
    "Nature of work: Fully involved in design, programming, testing & implementation\n",
    "of VIS System. Maintain Local Area Networking of whole office. Data handling &\n",
    "processing. Manage staff of CIS Centre.\n",
    "- Period Jan-1999 to Jun-2002 as Regional Network Coordinator\n",
    "Environment: IBM AS/400, OS/400 & Motorola Remote Communication Devices\n",
    "Staff under control: Six (6), 4 Network Engineer & 2 Hardware Engineer\n",
    "Nature of work: Infra-structure of Pakistan Customs’ Computer Remote\n",
    "Network of 19 locations i.e KPT West Wharf Examination Sheds & Gates,\n",
    "KPT East Wharf Examination Sheds & Gates, KICT, Auction Shed, QICT, Port\n",
    "Qasim Custom House, AFU Exports, AFU Imports and ICG etc.\n",
    "- Period Jul-2002 to May-2003 as Project Manager – Export Facilitation Centre\n",
    "Environment: IBM AS/400, OS/400, IBM Client Access & WAN Technology\n",
    "Staff under control: Forty Two (42), 1 User Assistant, 2 Supervisors, 1 Facilitation\n",
    "Officer, 2 Exception Handing Officer\n",
    "1 Network/Hardware Technician, 15 DEO,\n",
    "10 Data Verifier, 6 Counter Handling Staff\n",
    "2 Runner, 1 Office Boy and 1 Driver\n",
    "Average Workload per day: 500 Export Documents (GDs)\n",
    "Khawaja Aqil Ahmed CV Page 5 of 6\n",
    "Annual Revenue: PK Rs. 7.5 million\n",
    "Nature of work: - Fully involved in Finalization of EFC Layout Plan – Get\n",
    "approvals from Pakistan Customs, KPT and EPB – Tendering of Civil,\n",
    "Electrical, Computer Cabling, Furniture & Fixture and Computer Equipment\n",
    "- Processing of all said Tenders – Involved in EFC System Design & Development\n",
    "- Recruitment & Training of newly hired staff for EFC – Coordination with\n",
    "different stack holders like Customs, KPT, EPB, KCAG, Shipping Companies,\n",
    "Computer Bureau, PTCL, Coupon Printing Press etc. regarding EFC issues –\n",
    "Officially Inauguration of EFC – Successfully implementation the EFC\n",
    "policies and smoothly operation handover to new Project Manager.\n",
    "- Period Jun-2003 to Sep-2003 as Computer Instructor of I.T Skill Development Prog.\n",
    "Environment: Windows XP, Office XP, Internet & Web based CVIS System\n",
    "Staff under control: Four (4), 3 Computer Lab Assistants, 1 Office Boy\n",
    "No. of Participants: 72 staff members of Customs Valuation Department\n",
    "Nature of work: Training Programme specially designed for Top to Bottom\n",
    "Level of Customs Valuation Departmental Staff (Deputy Controller,\n",
    "Assistant Controller, Principal Appraiser, Valuation Officers, Suprt., UDC,\n",
    "LDC etc.)\n",
    "- Period Oct-2003 to Feb-2004 as Computer Instructor of Computer Literacy Prog.\n",
    "Environment: Windows XP, Office XP, Internet & Web based CVIS System\n",
    "Staff under control: Four (4), 3 Computer Lab Assistants, 1 Office Boy\n",
    "No. of Participants: 350 staff members of Customs Appraisement Collectorate\n",
    "Nature of work: With the coordination of Customs Coordinator of TEPI\n",
    "Project, a Computer Literacy Programme launched for lower staff (Suprt.,\n",
    "UDC, LDC, RS etc.) of Customs Appraisement Collectorate for\n",
    "improvement of IT Skill.\n",
    "- Period Mar-2004 to Nov-2004 as Project Manager – Customer Services Centre\n",
    "- Period May-2005 to Sep-2005 as Budget Coordinator – Customer Services Centre\n",
    "Environment: IBM AS/400, OS/400, IBM Client Access\n",
    "Staff under control: Sixty Seven (67), 2 User Assistant, 2 Supervisors, 1 Facilitation\n",
    "Officer, 4 Exception Handing Officer\n",
    "2 Network/Hardware Technician, 34 GD\n",
    "Processing Officer, 18 MNO, 1 Accountant\n",
    "1 Runner, 1 Office Boy and 1 Driver\n",
    "Average Workload per day: 1000 - 1200 Import Documents (GDs)\n",
    "Annual Revenue: PK Rs. 14.5 million\n",
    "Nature of work: - Over all management of Customer Services Centre,\n",
    "maintain staff performance level check, manage imprest account,\n",
    "maintain motivation factor in staff to increase productivity of work,\n",
    "Coordination with Customs, Shipping Companies, Clearing Agents, AIB\n",
    "and CPF/CWT regarding day to day CSC issues, Improvement in existing\n",
    "system and setup to minimize the processing time of GD, Budget Activities\n",
    "2003-2004 and 2004-2005 successfully completed without any pressure.\n",
    "- Period Dec-2004 to Dec-2006 as Project Manager – Export Facilitation Centre\n",
    "Environment: IBM AS/400, OS/400, IBM Client Access & WAN Technology\n",
    "Staff under control: Forty Two (42), 1 User Assistant, 2 Supervisors, 1 Facilitation\n",
    "Officer, 2 Exception Handing Officer\n",
    "1 Network/Hardware Technician, 15 DEO,\n",
    "10 Data Verifier, 6 Counter Handling Staff\n",
    "2 Runner, 1 Office Boy and 1 Driver\n",
    "Khawaja Aqil Ahmed CV Page 6 of 6\n",
    "Average Workload per day: 500 Export Documents (GDs)\n",
    "Annual Revenue: PK Rs. 7.5 million\n",
    "Nature of work: - First to removed the mismanagement culture at EFC\n",
    "within a month, transparent daily transaction record keeping, maintain\n",
    "staff performance level check, manage routine tasks, look-after imprest\n",
    "account. Coordination with different stack holders like Customs, KPT,\n",
    "KCAG, Shipping Companies, Computer Bureau, etc. regarding EFC\n",
    "routine issues, improvement in existing system and setup.\n",
    "PERSONAL - NIC # 42101-7640606-3 I\n",
    "INFORMATIION:: - Passport # A2378679\n",
    "- NTN # 1130343\n",
    "- Married\n",
    "- Nationality - Pakistani'''])\n",
    "model3.predict(test_feature)"
   ]
  },
  {
   "cell_type": "code",
   "execution_count": 35,
   "metadata": {},
   "outputs": [
    {
     "data": {
      "text/plain": [
       "array([1], dtype=int64)"
      ]
     },
     "execution_count": 35,
     "metadata": {},
     "output_type": "execute_result"
    }
   ],
   "source": [
    "test_feature = word_vectorizer.transform(['enthu ia tic and reliable java developer with a  trong java cript knowledge ba e   ear  of indu tr  experience a  part of a computer program development team proficient at being able to clearl  explain complex computer development concept  to a variet  of audiencejunior java developerhedgefinancial  updated  exi ting application  and module  u ed html and java cript to de ign form validation program improved functionalit  of web application  with j p and  ervlet enthu ia tic and highl  killed java developer looking for a junior role at compan  x experience include  developing app  web ite  and complex program  while at univer it  x  killed in pl ql oracle m  ql tomcat apache ajax vb java cript a p c  and html and more'])\n",
    "model3.predict(test_feature)"
   ]
  },
  {
   "cell_type": "code",
   "execution_count": null,
   "metadata": {},
   "outputs": [],
   "source": [
    "pickl = {'vectorizer': word_vectorizer,\n",
    "         'model': model3\n",
    "         }\n",
    "pickle.dump(pickl, open('models'+\".p\", \"wb\"))"
   ]
  }
 ],
 "metadata": {
  "kernelspec": {
   "display_name": "Python 3",
   "language": "python",
   "name": "python3"
  },
  "language_info": {
   "codemirror_mode": {
    "name": "ipython",
    "version": 3
   },
   "file_extension": ".py",
   "mimetype": "text/x-python",
   "name": "python",
   "nbconvert_exporter": "python",
   "pygments_lexer": "ipython3",
   "version": "3.8.5"
  }
 },
 "nbformat": 4,
 "nbformat_minor": 4
}
