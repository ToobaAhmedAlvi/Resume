{
  "cells": [
    {
      "cell_type": "code",
      "execution_count": null,
      "metadata": {
        "colab": {
          "base_uri": "https://localhost:8080/"
        },
        "id": "Fl3nSpM0L-gF",
        "outputId": "335a9478-a461-4a20-f96e-5ed07be4c9bb"
      },
      "outputs": [
        {
          "output_type": "stream",
          "name": "stdout",
          "text": [
            "Collecting PyPDF2\n",
            "  Downloading PyPDF2-1.26.0.tar.gz (77 kB)\n",
            "\u001b[?25l\r\u001b[K     |████▎                           | 10 kB 26.8 MB/s eta 0:00:01\r\u001b[K     |████████▌                       | 20 kB 30.0 MB/s eta 0:00:01\r\u001b[K     |████████████▊                   | 30 kB 36.1 MB/s eta 0:00:01\r\u001b[K     |█████████████████               | 40 kB 17.9 MB/s eta 0:00:01\r\u001b[K     |█████████████████████▏          | 51 kB 12.6 MB/s eta 0:00:01\r\u001b[K     |█████████████████████████▍      | 61 kB 14.4 MB/s eta 0:00:01\r\u001b[K     |█████████████████████████████▋  | 71 kB 15.3 MB/s eta 0:00:01\r\u001b[K     |████████████████████████████████| 77 kB 4.8 MB/s \n",
            "\u001b[?25hBuilding wheels for collected packages: PyPDF2\n",
            "  Building wheel for PyPDF2 (setup.py) ... \u001b[?25l\u001b[?25hdone\n",
            "  Created wheel for PyPDF2: filename=PyPDF2-1.26.0-py3-none-any.whl size=61102 sha256=4caee5f39dd8d6a06f9fd658ee2d2866b41ae20f94682adae8e64e15c37b0115\n",
            "  Stored in directory: /root/.cache/pip/wheels/80/1a/24/648467ade3a77ed20f35cfd2badd32134e96dd25ca811e64b3\n",
            "Successfully built PyPDF2\n",
            "Installing collected packages: PyPDF2\n",
            "Successfully installed PyPDF2-1.26.0\n"
          ]
        }
      ],
      "source": [
        "!pip3 install PyPDF2\n"
      ]
    },
    {
      "cell_type": "code",
      "execution_count": null,
      "metadata": {
        "colab": {
          "base_uri": "https://localhost:8080/",
          "height": 1000
        },
        "id": "eSaz_J5GL-gW",
        "outputId": "def58382-6255-47d1-c961-4c0e3d95f765"
      },
      "outputs": [
        {
          "output_type": "stream",
          "name": "stdout",
          "text": [
            "Collecting textract\n",
            "  Downloading textract-1.6.4.tar.gz (17 kB)\n",
            "Collecting argcomplete~=1.10.0\n",
            "  Downloading argcomplete-1.10.3-py2.py3-none-any.whl (36 kB)\n",
            "Collecting beautifulsoup4~=4.8.0\n",
            "  Downloading beautifulsoup4-4.8.2-py3-none-any.whl (106 kB)\n",
            "\u001b[K     |████████████████████████████████| 106 kB 24.6 MB/s \n",
            "\u001b[?25hRequirement already satisfied: chardet==3.* in /usr/local/lib/python3.7/dist-packages (from textract) (3.0.4)\n",
            "Collecting docx2txt~=0.8\n",
            "  Downloading docx2txt-0.8.tar.gz (2.8 kB)\n",
            "Collecting EbookLib==0.*\n",
            "  Downloading EbookLib-0.17.1.tar.gz (111 kB)\n",
            "\u001b[K     |████████████████████████████████| 111 kB 52.2 MB/s \n",
            "\u001b[?25hCollecting extract-msg<=0.29.*\n",
            "  Downloading extract_msg-0.28.7-py2.py3-none-any.whl (69 kB)\n",
            "\u001b[K     |████████████████████████████████| 69 kB 6.8 MB/s \n",
            "\u001b[?25hCollecting pdfminer.six==20191110\n",
            "  Downloading pdfminer.six-20191110-py2.py3-none-any.whl (5.6 MB)\n",
            "\u001b[K     |████████████████████████████████| 5.6 MB 28.3 MB/s \n",
            "\u001b[?25hCollecting python-pptx~=0.6.18\n",
            "  Downloading python-pptx-0.6.21.tar.gz (10.1 MB)\n",
            "\u001b[K     |████████████████████████████████| 10.1 MB 51.7 MB/s \n",
            "\u001b[?25hCollecting six~=1.12.0\n",
            "  Downloading six-1.12.0-py2.py3-none-any.whl (10 kB)\n",
            "Collecting SpeechRecognition~=3.8.1\n",
            "  Downloading SpeechRecognition-3.8.1-py2.py3-none-any.whl (32.8 MB)\n",
            "\u001b[K     |████████████████████████████████| 32.8 MB 96 kB/s \n",
            "\u001b[?25hCollecting xlrd~=1.2.0\n",
            "  Downloading xlrd-1.2.0-py2.py3-none-any.whl (103 kB)\n",
            "\u001b[K     |████████████████████████████████| 103 kB 64.1 MB/s \n",
            "\u001b[?25hRequirement already satisfied: lxml in /usr/local/lib/python3.7/dist-packages (from EbookLib==0.*->textract) (4.2.6)\n",
            "Requirement already satisfied: sortedcontainers in /usr/local/lib/python3.7/dist-packages (from pdfminer.six==20191110->textract) (2.4.0)\n",
            "Collecting pycryptodome\n",
            "  Downloading pycryptodome-3.14.1-cp35-abi3-manylinux2010_x86_64.whl (2.0 MB)\n",
            "\u001b[K     |████████████████████████████████| 2.0 MB 37.8 MB/s \n",
            "\u001b[?25hCollecting soupsieve>=1.2\n",
            "  Downloading soupsieve-2.3.1-py3-none-any.whl (37 kB)\n",
            "Collecting olefile>=0.46\n",
            "  Downloading olefile-0.46.zip (112 kB)\n",
            "\u001b[K     |████████████████████████████████| 112 kB 74.1 MB/s \n",
            "\u001b[?25hCollecting tzlocal>=2.1\n",
            "  Downloading tzlocal-4.1-py3-none-any.whl (19 kB)\n",
            "Collecting ebcdic>=1.1.1\n",
            "  Downloading ebcdic-1.1.1-py2.py3-none-any.whl (128 kB)\n",
            "\u001b[K     |████████████████████████████████| 128 kB 40.4 MB/s \n",
            "\u001b[?25hCollecting compressed-rtf>=1.0.6\n",
            "  Downloading compressed_rtf-1.0.6.tar.gz (5.8 kB)\n",
            "Collecting imapclient==2.1.0\n",
            "  Downloading IMAPClient-2.1.0-py2.py3-none-any.whl (73 kB)\n",
            "\u001b[K     |████████████████████████████████| 73 kB 1.6 MB/s \n",
            "\u001b[?25hRequirement already satisfied: Pillow>=3.3.2 in /usr/local/lib/python3.7/dist-packages (from python-pptx~=0.6.18->textract) (7.1.2)\n",
            "Collecting XlsxWriter>=0.5.7\n",
            "  Downloading XlsxWriter-3.0.3-py3-none-any.whl (149 kB)\n",
            "\u001b[K     |████████████████████████████████| 149 kB 28.9 MB/s \n",
            "\u001b[?25hCollecting pytz-deprecation-shim\n",
            "  Downloading pytz_deprecation_shim-0.1.0.post0-py2.py3-none-any.whl (15 kB)\n",
            "Collecting backports.zoneinfo\n",
            "  Downloading backports.zoneinfo-0.2.1-cp37-cp37m-manylinux1_x86_64.whl (70 kB)\n",
            "\u001b[K     |████████████████████████████████| 70 kB 2.9 MB/s \n",
            "\u001b[?25hCollecting tzdata\n",
            "  Downloading tzdata-2021.5-py2.py3-none-any.whl (339 kB)\n",
            "\u001b[K     |████████████████████████████████| 339 kB 36.1 MB/s \n",
            "\u001b[?25hBuilding wheels for collected packages: textract, EbookLib, docx2txt, compressed-rtf, olefile, python-pptx\n",
            "  Building wheel for textract (setup.py) ... \u001b[?25l\u001b[?25hdone\n",
            "  Created wheel for textract: filename=textract-1.6.4-py3-none-any.whl size=22889 sha256=cbeedbe09a93672eae162e1be3b9d793264ee3894690bf7ff9f67bb768ba13fd\n",
            "  Stored in directory: /root/.cache/pip/wheels/fb/75/40/78e8fff233a28dce67a9bf0ea2740ad3635dbca34e9b2af892\n",
            "  Building wheel for EbookLib (setup.py) ... \u001b[?25l\u001b[?25hdone\n",
            "  Created wheel for EbookLib: filename=EbookLib-0.17.1-py3-none-any.whl size=38184 sha256=320704b7aa708c50c4858fb5bdc81f808cd328f3352962c0ccdfeda4807aa520\n",
            "  Stored in directory: /root/.cache/pip/wheels/43/39/fd/db4f652431a55d28472ba7f5f7c9a8efad03b97f443a48ea2f\n",
            "  Building wheel for docx2txt (setup.py) ... \u001b[?25l\u001b[?25hdone\n",
            "  Created wheel for docx2txt: filename=docx2txt-0.8-py3-none-any.whl size=3980 sha256=442d68960af7849104d0306b6d27f96921eba3531b2db4f44d3fc35a1101e58e\n",
            "  Stored in directory: /root/.cache/pip/wheels/b7/20/b2/473e3aea9a0c0d3e7b2f7bd81d06d0794fec12752733d1f3a8\n",
            "  Building wheel for compressed-rtf (setup.py) ... \u001b[?25l\u001b[?25hdone\n",
            "  Created wheel for compressed-rtf: filename=compressed_rtf-1.0.6-py3-none-any.whl size=6204 sha256=b5e00f2b1ccdff0aca3d2b82a1e8678b780ab4ba607acfaf37cca11fb2c37f4a\n",
            "  Stored in directory: /root/.cache/pip/wheels/bb/33/88/88ceee84d1b74b391c086bc594d3fcf80800decfbd6e1ff565\n",
            "  Building wheel for olefile (setup.py) ... \u001b[?25l\u001b[?25hdone\n",
            "  Created wheel for olefile: filename=olefile-0.46-py2.py3-none-any.whl size=35432 sha256=7b9658507ea2a03f7e8a61e9264f2e1b80902e92b3cee82a4ac7a566089d5826\n",
            "  Stored in directory: /root/.cache/pip/wheels/84/53/e6/37d90ccb3ad1a3ca98d2b17107e9fda401a7c541ea1eb6a65a\n",
            "  Building wheel for python-pptx (setup.py) ... \u001b[?25l\u001b[?25hdone\n",
            "  Created wheel for python-pptx: filename=python_pptx-0.6.21-py3-none-any.whl size=470951 sha256=567be1468612210aae33bd190dcc3b1b77eeb8a2cc395fe359084ed05a282fca\n",
            "  Stored in directory: /root/.cache/pip/wheels/a7/ab/f4/52560d0d4bd4055e9261c6df6e51c7b56c2b23cca3dee811a3\n",
            "Successfully built textract EbookLib docx2txt compressed-rtf olefile python-pptx\n",
            "Installing collected packages: tzdata, backports.zoneinfo, six, pytz-deprecation-shim, XlsxWriter, tzlocal, soupsieve, pycryptodome, olefile, imapclient, ebcdic, compressed-rtf, xlrd, SpeechRecognition, python-pptx, pdfminer.six, extract-msg, EbookLib, docx2txt, beautifulsoup4, argcomplete, textract\n",
            "  Attempting uninstall: six\n",
            "    Found existing installation: six 1.15.0\n",
            "    Uninstalling six-1.15.0:\n",
            "      Successfully uninstalled six-1.15.0\n",
            "  Attempting uninstall: tzlocal\n",
            "    Found existing installation: tzlocal 1.5.1\n",
            "    Uninstalling tzlocal-1.5.1:\n",
            "      Successfully uninstalled tzlocal-1.5.1\n",
            "  Attempting uninstall: xlrd\n",
            "    Found existing installation: xlrd 1.1.0\n",
            "    Uninstalling xlrd-1.1.0:\n",
            "      Successfully uninstalled xlrd-1.1.0\n",
            "  Attempting uninstall: beautifulsoup4\n",
            "    Found existing installation: beautifulsoup4 4.6.3\n",
            "    Uninstalling beautifulsoup4-4.6.3:\n",
            "      Successfully uninstalled beautifulsoup4-4.6.3\n",
            "\u001b[31mERROR: pip's dependency resolver does not currently take into account all the packages that are installed. This behaviour is the source of the following dependency conflicts.\n",
            "tensorflow 2.8.0 requires tf-estimator-nightly==2.8.0.dev2021122109, which is not installed.\n",
            "google-colab 1.0.0 requires six~=1.15.0, but you have six 1.12.0 which is incompatible.\n",
            "google-api-python-client 1.12.10 requires six<2dev,>=1.13.0, but you have six 1.12.0 which is incompatible.\n",
            "google-api-core 1.26.3 requires six>=1.13.0, but you have six 1.12.0 which is incompatible.\n",
            "datascience 0.10.6 requires folium==0.2.1, but you have folium 0.8.3 which is incompatible.\n",
            "albumentations 0.1.12 requires imgaug<0.2.7,>=0.2.5, but you have imgaug 0.2.9 which is incompatible.\u001b[0m\n",
            "Successfully installed EbookLib-0.17.1 SpeechRecognition-3.8.1 XlsxWriter-3.0.3 argcomplete-1.10.3 backports.zoneinfo-0.2.1 beautifulsoup4-4.8.2 compressed-rtf-1.0.6 docx2txt-0.8 ebcdic-1.1.1 extract-msg-0.28.7 imapclient-2.1.0 olefile-0.46 pdfminer.six-20191110 pycryptodome-3.14.1 python-pptx-0.6.21 pytz-deprecation-shim-0.1.0.post0 six-1.12.0 soupsieve-2.3.1 textract-1.6.4 tzdata-2021.5 tzlocal-4.1 xlrd-1.2.0\n"
          ]
        },
        {
          "output_type": "display_data",
          "data": {
            "application/vnd.colab-display-data+json": {
              "pip_warning": {
                "packages": [
                  "six"
                ]
              }
            }
          },
          "metadata": {}
        },
        {
          "output_type": "stream",
          "name": "stdout",
          "text": [
            "\u001b[31mERROR: Could not find a version that satisfies the requirement re (from versions: none)\u001b[0m\n",
            "\u001b[31mERROR: No matching distribution found for re\u001b[0m\n"
          ]
        }
      ],
      "source": [
        "!pip3 install textract\n",
        "!pip3 install re"
      ]
    },
    {
      "cell_type": "code",
      "source": [
        "import PyPDF2\n",
        "import textract\n",
        "import re\n",
        "import string\n",
        "import pandas as pd\n",
        "import matplotlib.pyplot as plt\n",
        "%matplotlib inline\n"
      ],
      "metadata": {
        "id": "mC7ZkU72132y"
      },
      "execution_count": null,
      "outputs": []
    },
    {
      "cell_type": "code",
      "execution_count": null,
      "metadata": {
        "id": "iMZJv7NWL-gZ",
        "colab": {
          "base_uri": "https://localhost:8080/",
          "height": 235
        },
        "outputId": "135eca47-fffd-4d87-f65d-f29565182060"
      },
      "outputs": [
        {
          "output_type": "error",
          "ename": "FileNotFoundError",
          "evalue": "ignored",
          "traceback": [
            "\u001b[0;31m---------------------------------------------------------------------------\u001b[0m",
            "\u001b[0;31mFileNotFoundError\u001b[0m                         Traceback (most recent call last)",
            "\u001b[0;32m<ipython-input-6-b5e001364799>\u001b[0m in \u001b[0;36m<module>\u001b[0;34m()\u001b[0m\n\u001b[1;32m     10\u001b[0m \u001b[0;31m#pdfFileObj = open('Hamza.pdf','rb')\u001b[0m\u001b[0;34m\u001b[0m\u001b[0;34m\u001b[0m\u001b[0;34m\u001b[0m\u001b[0m\n\u001b[1;32m     11\u001b[0m \u001b[0;31m#pdfFileObj = open('TOOBA AHMED ALVI(resume).pdf','rb')\u001b[0m\u001b[0;34m\u001b[0m\u001b[0;34m\u001b[0m\u001b[0;34m\u001b[0m\u001b[0m\n\u001b[0;32m---> 12\u001b[0;31m \u001b[0mpdfFileObj\u001b[0m \u001b[0;34m=\u001b[0m \u001b[0mopen\u001b[0m\u001b[0;34m(\u001b[0m\u001b[0;34m'CV23.pdf'\u001b[0m\u001b[0;34m,\u001b[0m\u001b[0;34m'rb'\u001b[0m\u001b[0;34m)\u001b[0m\u001b[0;34m\u001b[0m\u001b[0;34m\u001b[0m\u001b[0m\n\u001b[0m\u001b[1;32m     13\u001b[0m \u001b[0;31m#pdfFileObj = open('Resume-Tooba-Alvi.pdf','rb')\u001b[0m\u001b[0;34m\u001b[0m\u001b[0;34m\u001b[0m\u001b[0;34m\u001b[0m\u001b[0m\n\u001b[1;32m     14\u001b[0m \u001b[0;34m\u001b[0m\u001b[0m\n",
            "\u001b[0;31mFileNotFoundError\u001b[0m: [Errno 2] No such file or directory: 'CV23.pdf'"
          ]
        }
      ],
      "source": [
        "import PyPDF2\n",
        "import textract\n",
        "import re\n",
        "import string\n",
        "import pandas as pd\n",
        "import matplotlib.pyplot as plt\n",
        "%matplotlib inline\n",
        "\n",
        "# Open pdf file\n",
        "#pdfFileObj = open('Hamza.pdf','rb')\n",
        "#pdfFileObj = open('TOOBA AHMED ALVI(resume).pdf','rb')\n",
        "pdfFileObj = open('CV23.pdf','rb')\n",
        "#pdfFileObj = open('Resume-Tooba-Alvi.pdf','rb')\n",
        "\n",
        "\n",
        "# Read file\n",
        "pdfReader = PyPDF2.PdfFileReader(pdfFileObj)\n",
        "\n",
        "# Get total number of pages\n",
        "num_pages = pdfReader.numPages\n",
        "\n",
        "# Initialize a count for the number of pages\n",
        "count = 0\n",
        "\n",
        "# Initialize a text empty etring variable\n",
        "text = \"\"\n",
        "\n",
        "# Extract text from every page on the file\n",
        "while count < num_pages:\n",
        "    pageObj = pdfReader.getPage(count)\n",
        "    count +=1\n",
        "    text += pageObj.extractText()"
      ]
    },
    {
      "cell_type": "code",
      "source": [
        "text"
      ],
      "metadata": {
        "colab": {
          "base_uri": "https://localhost:8080/",
          "height": 174
        },
        "id": "4mfu66khH4yX",
        "outputId": "eb04615b-12ad-428e-d04d-f68944b8454c"
      },
      "execution_count": null,
      "outputs": [
        {
          "output_type": "execute_result",
          "data": {
            "application/vnd.google.colaboratory.intrinsic+json": {
              "type": "string"
            },
            "text/plain": [
              "'Khawaja \\nAqil Ahmed CV\\n \\n \\n \\nPage \\n1\\n \\nof \\n6\\n \\n \\nB\\n-\\n37\\n, \\nAbdullah Terrace\\n,\\n \\nBlock\\n-\\n16\\n   \\n \\n \\n \\nCell #:  0333\\n-\\n3801072\\n \\nGulistan\\n-\\ne\\n-\\nJohar\\n \\nopposite Continental Bakery\\n \\n              \\n03\\n03\\n-\\n2\\n624491\\n \\nKarachi.\\n   \\n \\n \\n \\n \\n \\n \\nE\\n-\\nmail\\n: \\naqahmed\\n@\\neuronetworldwide\\n.com\\n \\n \\n \\n \\n \\n \\n \\n \\n          \\n     \\naaaqil.ahmed@gmail.com\\n \\n \\n \\nKhawaja Aqil Ahmed\\n \\n \\nO\\nO\\nB\\nB\\nJ\\nJ\\nE\\nE\\nC\\nC\\nT\\nT\\nI\\nI\\nV\\nV\\nE\\nE\\n:\\n:\\n \\nI want to work for a\\nn\\n \\nOrganization to serve my \\ntechnical \\nexpertise\\n \\n& \\nmanagerial skill\\n \\nwith full devotion beneficial for my career as well \\nas for the \\norganization\\n.\\n \\n \\nA\\nA\\nC\\nC\\nA\\nA\\nD\\nD\\nE\\nE\\nM\\nM\\nI\\nI\\nC\\nC\\n \\n-\\n   \\nMaster\\n \\nin Public Administration (MPA)\\n, \\nbi\\n-\\nmajor \\nspecialization in MIS & \\n \\nQ\\nQ\\nU\\nU\\nA\\nA\\nL\\nL\\nI\\nI\\nF\\nF\\nI\\nI\\nC\\nC\\nA\\nA\\nT\\nT\\nI\\nI\\nO\\nO\\nN\\nN\\n:\\n:\\n    \\n               \\nFinance \\n\\nst\\n \\n\\n \\n-\\n   \\nBachelor in Commerce (B.Com)\\n \\nfrom Karachi \\nUniversity in Year 1995   \\n \\n     \\n\\nnd\\n \\nDiv\\n\\n \\n \\nP\\nP\\nR\\nR\\nO\\nO\\nF\\nF\\nE\\nE\\nS\\nS\\nS\\nS\\nI\\nI\\nO\\nO\\nN\\nN\\nA\\nA\\nL\\nL\\n \\n-\\n   \\n2 Years International Diploma in Computer Sciences\\n \\nfrom College of\\n \\n \\nQ\\nQ\\nU\\nU\\nA\\nA\\nL\\nL\\nI\\nI\\nF\\nF\\nI\\nI\\nC\\nC\\nA\\nA\\nT\\nT\\nI\\nI\\nO\\nO\\nN\\nN\\n:\\n:\\n \\n    \\n\\n \\n-\\n   \\n3 Years Diploma \\nof Associate Engineer in Electrical Technolog\\ny\\n \\nfrom    \\n \\n    \\n\\nst\\n \\n\\n \\n \\nP\\nP\\nR\\nR\\nO\\nO\\nF\\nF\\nE\\nE\\nS\\nS\\nS\\nS\\nI\\nI\\nO\\nO\\nN\\nN\\nA\\nA\\nL\\nL\\n \\nC\\nC\\nA\\nA\\nR\\nR\\nE\\nE\\nE\\nE\\nR\\nR\\n \\n \\nS\\nS\\nU\\nU\\nM\\nM\\nM\\nM\\nA\\nA\\nR\\nR\\nY\\nY\\n:\\n:\\n \\n\\n \\n20\\n+ years of working experience of IBM AS/400 platform \\n \\n\\n \\n10\\n+ years of experience in \\npayment system industry\\n \\n\\n \\nIndependently involve\\n \\nin projects with payment associations and drive them \\ntowards successful completion.\\n \\n\\n \\nExperience of performing gap analysis and technical process enhancement  \\n \\n\\n \\nFormulate Project Schedules and execute Implementati\\non phase of Projects \\nafter Sale\\n-\\ncycle  \\n \\n\\n \\nCusto\\nmer Expectations Management throughout the Execution stage and \\nclosing stage  \\n \\n\\n \\nManaging different project execution steps by integrating and\\n \\ncommunicating with cross\\n-\\nfunctional teams  \\n \\n\\n \\nIn depth knowledge of Elec\\ntronic Financial Transactions (EFT) from card\\n \\nsetup to live implementation, Card & Payment Operations, EMV,\\n \\nATM,\\n \\n\\n \\nCCDM, POS,\\n \\nI\\nSO 8583/87/93,\\n \\nHypercom\\n \\n\\n \\nDevelop RPG/400 PGMs/APIs/Bit Functions/User Exits for different projects\\n \\n\\n \\nSkilled & individually involved i\\nn Visa, MasterCard Certification  \\n \\n\\n \\nHands on e\\nxperience in EFT simulators & utilities like VTS etc. \\n \\n\\n \\nUnderstanding of PCI DSS & PA DSS including application level security \\n \\nstandards and best practices.  \\n \\nKhawaja \\nAqil Ahmed CV\\n \\n \\n \\nPage \\n2\\n \\nof \\n6\\n \\n \\n \\nW\\nW\\nO\\nO\\nR\\nR\\nK\\nK\\n \\n \\nE\\nE\\nX\\nX\\nP\\nP\\nE\\nE\\nR\\nR\\nI\\nI\\nE\\nE\\nN\\nN\\nC\\nC\\nE\\nE\\n:\\n:\\n \\n \\n \\nEuronet Pakistan (Pvt.) Ltd (\\nS\\nince May\\n-\\n2011 to till date as\\n \\nManager \\n\\n \\nAD&\\nP, \\nAsst. Manager \\n\\n \\nADP & Sr. Application Consultant\\n)\\n \\nEuronet Pakistan, a subsidiary of Euronet Worldwide brings with it the\\n \\nexperience of \\n\\n \\npayments \\ntechn\\nologies. Euronet Pakistan is poised to offer the best blend o\\nf\\n \\ntechnology and \\noutsourcing services to all Pakistani banks from its state of the\\n \\nart facility in Karachi, \\nPakistan. Backed by the very best talent in the local\\n \\nindustry we provide an \\nunmatched \\nflexibility, scalability and SLA\\n-\\nbased\\n \\nservices. \\n \\n \\nWith a ric\\nh history in the financial services sector, Euronet serves more than\\n \\n300 \\ninstitutions in over 150 countries which includes both software based and\\n \\nEFT \\nprocessing customers. Euronet has the most c\\nomprehensive range of\\n \\nsolutions for the \\nbroadest range of fin\\nancial markets and holds leadership\\n \\npositions in payment \\nprocessing and banking solutions, providing software,\\n \\nservices and outsourcing of \\nthese payment technologies. Euronet develops\\n \\nsynergistic\\n \\nsolutions to make \\npayments secure, faster while adding value\\n \\nto\\n \\nyour business.\\n \\n \\nResponsibilities & achievements: \\n-\\n \\n \\n\\n \\nProject Management & Implementation\\n \\n\\n \\nCertifications\\n \\n \\n\\n \\nAlternate Delivery Channel Configuration & Setup\\n \\n\\n \\nCompliance/Upgrades and Patch management.\\n \\n\\n \\nCoordination and follow up\\n \\n\\n \\nProject Analysis\\n \\n\\n \\nSupport Project Technical Documentation & Manuals \\n \\n \\nWor\\nking Areas:\\n \\n \\n\\nATM & CCDM Configuration/Setup, State & Screen Programming\\n \\nSpecialized in State & Screen Programming from scratch to end or\\n \\nupdation/addition of new services or new features on machine as per bank\\n \\nrequirement.\\n \\n \\nClients:  MCB Bank, Barclays B\\nank, Burj Bank, Bank alBaraka, First Women Bank,\\n \\nWaseela Microfinance Bank, National Bank of Pakistan.\\n \\n \\n\\nBranchless Banking Setup\\n \\nExpertise in Branchless banking project setup with respect to issuing and\\n \\nacquiring.\\n \\n \\nClients:  MCB Bank (Lite) and Waseela M\\nicrofinance Bank (Mobi Cash).\\n \\n \\n \\n\\nCertification\\n \\nInvolve in 3\\nrd\\n \\nParty Scheme (VISA/MasterCard) issuing & acquiring\\n \\ncertification. Also \\nparticipate in local switch certification w.r.t shared ATMs\\n \\nUtility Bill Payment Service \\nand Interbank Fund Transfer\\n.\\n \\n \\nCli\\nents:  MCB Bank, Barclays Bank, Burj Bank, Bank alBaraka, Waseela\\n \\nKhawaja \\nAqil Ahmed CV\\n \\n \\n \\nPage \\n3\\n \\nof \\n6\\n \\nMicrofinance Bank, National Bank of Pakistan.\\n \\n \\n\\nProduction or Post go\\n-\\nlive issues handling\\n \\nEffectively handling of production critical issues pertain to clients. Also support\\n \\nafter project \\npost go\\n-\\nlive issues till smooth run.\\n \\n \\n\\nAmendments in existing RPG APIs/User Exits/Bit Functions\\n \\nChanges in customized programs as per bank requirement.\\n \\n \\n\\nSettlement/Audit Reports & Extracts\\n \\nProvide support to create settlement/Audit Reports & Extracts. \\n \\n \\nMNET Services (Pvt.) Ltd (\\nSince Nov\\n-\\n2007 to Apr\\n-\\n2011 as Payment System Analyst\\n)\\n \\nMNET is the wholly owned subsidiary of MCB Bank Limited and provides\\n \\ndevelopment, \\nnetworking and HR outsourcing services to the bank. MNET\\n \\noperates ATM networks \\n(Euronet) for \\nsecure, online, real time financial\\n \\ntransaction comprising of 612 ATMs in \\n50 cities.\\n \\n \\nResponsibilities & \\nachievements: \\n-\\n \\n \\n\\n \\nSettlement and Merchant Payments\\n \\n\\n \\nProject Implementation.\\n \\n\\n \\nCertifications\\n-\\nMember bank compliance to MNET specifications.\\n \\n\\n \\nATM Enh\\nancement.\\n \\n\\n \\nCompliance/Upgrades and Patch management.\\n \\n\\n \\nCoordination and follow up with Vendor.\\n \\n\\n \\nUAT \\n \\n \\nProjects:\\n \\n \\n\\nATM Configuration, State & Screen Programming\\n \\nAddition/Configuration of ATM on controller. Expertise in State & Screen\\n \\nProgramming for addi\\ntion of new services or new features.\\n \\n \\n\\nMCB Mobile Banking Project\\n \\nFully participation in MCB Mobile Banking Project, Technical Specification,\\n \\ndocumentation, Coordination, Configuration/Setup, SIT, UAT, Settlement, Go\\n \\nLive activity and Post go\\n-\\nlive issues\\n \\nhandling.\\n \\n \\n\\nInter\\n-\\nSwitch Pre\\n-\\nreconciliation (MNET/1LINK)\\n \\nThe main objective of project is to minimize the disputes between both\\n \\nswitches and generate settlement reports to respective member banks as\\n \\nwell as State Bank of Pakistan.\\n \\n \\n\\nMigration of Citiban\\nk Link from X.25 to TCP/IP\\n \\nCitibank ATM communication link migration.\\n \\n\\nCertification of Banks on MNET Switch\\n \\nCompliance of Arif Habib Rupali, JS Bank and SME Bank in accordance to the\\n \\nMNET specification in order for their transactions to be carried out in\\n \\nMNET\\n \\nswitch Euronet configuration.\\n \\n\\nUtility Bill Payment through ATM\\n \\nDeveloped various modules for bill payment & mobile Top\\n-\\nups of Utilities/Telco\\n \\ncompanies through ATM.\\n \\n\\nInter\\n-\\nBank Fund Transfer (IBFT)\\n \\nKhawaja \\nAqil Ahmed CV\\n \\n \\n \\nPage \\n4\\n \\nof \\n6\\n \\nSystem analysis & design for IBFT Project.\\n \\n \\nM/S I\\nSF \\n\\n \\nSoftware House (\\nSince Jan\\n-\\n2007 to Oct\\n-\\n2007 as Project Manager\\n)\\n \\n \\nResponsibilities & \\nachievements: \\n-\\n \\n-\\n \\nReporting to the CEO of ISF, worked as a vender posted at MNET Services\\n \\n(Pvt.) \\nLtd.\\n \\n-\\n \\nDevelop and manage documents comprising of agreements, process\\n \\nflows\\n, issue \\nresolution reports, developme\\nnt manuals, technical\\n \\nspecifications, project plans \\nfor MNET projects.\\n \\n-\\n \\nInvolved in \\nRPG/400 based API/PGM & configuration for MNET member \\nbanks.\\n \\n-\\n \\nResolved operational issues of MNET switch.\\n \\n-\\n \\nInvolved in Euronet configurati\\non for MNET member banks.\\n \\n \\n \\nProjects: \\n \\ni.\\n \\nPRERCON (Settlement Process between two local switch)\\n \\nii.\\n \\nUBPS (Utility Bills Payment via ATM Channel) \\n \\n \\n \\nPakistan Revenue Automation (Pvt.) \\nLimited (\\nSince Mar\\n-\\n1997 to \\nDec\\n-\\n2006\\n)\\n \\n \\n \\n \\n \\n(A Company owned by \\nFederal\\n \\nBoar\\nd of Revenue, Government of Pakistan) \\n \\n \\n-\\n  \\nPeriod Mar\\n-\\n1997 to Dec\\n-\\n1997 as an Assistant S\\nystem Administrator\\n  \\n \\n \\n   \\nEnvironment:\\n \\nIBM AS/400, OS/400 \\n& SQL/400\\n \\n   \\nNature of work: \\nInvolved in \\nMonitoring\\n \\n& trouble\\n-\\nshooting\\n \\nof IBM AS/400 System,\\n \\n   \\ncoordination w\\nith M/s SAZTEL \\nregarding \\nremote\\n \\ncommunication \\ndevices\\n, \\n \\nmonitor\\n \\n   \\nmirroring of\\n \\nmain system \\nt\\no backup, routine backup of data and Users complains\\n \\n   \\nand\\n \\nqueries handling\\n.\\n \\n \\n \\n-\\n  \\nPeriod Jan\\n-\\n1998 to Dec\\n-\\n1998 as In\\n-\\ncharge Customs Information Services Centre\\n  \\n \\n \\n   \\nEnvironment:\\n \\nWindows 3.1,\\n \\nWindows 95/98, C++, MS Access,\\n \\nVIS System\\n \\n& LAN\\n \\n \\n   \\nStaff under control:\\n \\nSix (6)\\n,\\n \\n1 Facilitation Officer, 1 Database Administrator\\n \\n \\n2 Data Entry Operators & 2 Data Verifier\\n \\n  \\n \\nNature of work:\\n \\nFully involved in design, programm\\ning, testing & implementation \\n \\n   \\nof VIS System. Maintain Local Area Networking of whole office. Data handling &\\n \\n   \\nprocessing. Manage staff of \\nCIS Centre.\\n \\n \\n \\n \\n \\n-\\n  \\nPeriod Jan\\n-\\n1999 to Jun\\n-\\n200\\n2\\n \\nas Regional Network Coordinator\\n \\n   \\nEnvironment:\\n \\nIBM AS/400, OS/40\\n0 & Motorola Remote Communication\\n \\nDevices\\n \\n   \\nStaff under control:\\n \\nSix (6)\\n,\\n \\n4 Network Engineer & 2 Hardware Engineer\\n \\n \\n   \\nNature of work:\\n \\nInfra\\n-\\n\\n \\n   \\nNetwork of 19 locations i.e KPT West Wharf Examination Sheds & \\nGates, \\n \\n   \\nKPT East Wharf Examination Sheds & Gates, KICT, Auction Shed, QICT, Port \\n \\n   \\nQasim Custom House, AFU Exports, AFU Imports and ICG etc.\\n \\n \\n \\n-\\n  \\nPeriod Jul\\n-\\n200\\n2\\n \\nto May\\n-\\n200\\n3\\n \\nas Project Manager \\n\\n \\nExport Facilitation Centre\\n \\n   \\nEnvironment:\\n \\nIBM AS/400, O\\nS/400, IBM Client Access & WAN Technology\\n \\n \\n    \\nStaff under control:\\n \\nForty Two (42), 1 User Assistant, 2 Supervisors, 1 Facilitation \\n \\nOfficer, 2 Exception Handing Officer\\n \\n1 Network/Hardware Technician, 15 DEO, \\n \\n10 Data Verifier, 6 Counter Handling Staff\\n \\n2 R\\nunner, 1 Office Boy and 1 Driver\\n \\n \\n    \\nAverage Workload per day:\\n \\n500 Export Documents (GDs)\\n \\nKhawaja \\nAqil Ahmed CV\\n \\n \\n \\nPage \\n5\\n \\nof \\n6\\n \\n \\n    \\nAnnual Revenue:\\n \\n \\n \\nPK Rs. 7.5 million\\n \\n \\n    \\nNature of work: \\n-\\n \\nFully involved in Finalization of EFC Layout Plan \\n\\n \\nGet \\n \\n    \\napprovals from Pakistan Customs, KPT an\\nd EPB \\n\\n \\nTendering of Civil, \\n \\n    \\nElectrical, Computer Cabling, Furniture & Fixture and Computer Equipment\\n \\n-\\n \\nProcessing of all said Tenders \\n\\n \\nInvolved in EFC System Design & Development\\n \\n \\n    \\n-\\n \\nRecruitment & Training of newly hired staff for EFC \\n\\n \\nCoordinati\\non with \\n \\n    \\ndifferent stack holders like Customs, KPT, EPB, KCAG, Shipping Companies, \\n \\n   \\nComputer Bureau, PTCL, Coupon Printing Press etc. regarding EFC issues \\n\\n \\n \\n   \\nOfficially Inauguration of EFC \\n\\n \\nSuccessfully implementation the EFC \\n \\n   \\npolicies and sm\\noothly operation handover to new Project Manager.\\n \\n \\n-\\n  \\nPeriod Jun\\n-\\n200\\n3\\n \\nto Sep\\n-\\n200\\n3\\n \\nas Computer Instructor of I.T Skill Development Prog.\\n  \\n \\n \\n    \\nEnvironment:\\n \\nWindows XP, Office XP, Internet & Web based CVIS System\\n \\n \\n    \\nStaff under control:\\n \\nFour (4)\\n, 3 Comput\\ner Lab Assistants, 1 Office Boy\\n \\n \\n    \\nNo. of Participants:\\n \\n72 staff members of Customs Valuation Department\\n \\n \\n \\n \\n \\n    \\nNature of work:\\n \\nTraining Programme specially designed for Top to Bottom\\n \\n    \\nLevel of Customs Valuation Departmental Staff (Deputy Controller,\\n \\n \\n    \\nAssistant Controller, Principal Appraiser, Valuation Officers, Suprt., UDC, \\n \\n    \\nLDC etc.)\\n \\n \\n-\\n  \\nPeriod Oct\\n-\\n200\\n3\\n \\nto Feb\\n-\\n200\\n4\\n \\nas Computer Instructor of Computer Literacy Prog.\\n  \\n \\n \\n    \\nEnvironment:\\n \\nWindows XP, Office XP, Internet & Web based CVIS System\\n \\n \\n    \\nStaff under control:\\n \\nFour (4)\\n, 3 Computer Lab Assistants, 1 Office Boy\\n \\n \\n    \\nNo. of Participants:\\n \\n350 staff members of Customs Appraisement Collectorate\\n \\n \\n \\n \\n \\n    \\nNature of work:\\n \\nWith the coordination of Customs Coordinator of TEPI \\n \\n    \\nProject, a Compute\\nr Literacy Programme launched for lower staff (Suprt., \\n \\n    \\nUDC, LDC, RS etc.) of Customs Appraisement Collectorate for \\n \\n    \\nimprovement of IT Skill.\\n \\n \\n-\\n  \\nPeriod Mar\\n-\\n200\\n4\\n \\nto Nov\\n-\\n200\\n4\\n \\nas Project Manager \\n\\n \\nCustomer Services Centre\\n \\n-\\n  \\nPeriod May\\n-\\n200\\n5\\n \\nto Sep\\n-\\n20\\n0\\n5\\n \\nas Budget Coordinator \\n\\n \\nCustomer Services Centre\\n \\n   \\nEnvironment:\\n \\nIBM AS/400, OS/400, IBM Client Access\\n \\n \\n    \\nStaff under control:\\n \\nSixty Seven (67), 2 User Assistant, 2 Supervisors, 1 Facilitation \\n \\nOfficer, 4 Exception Handing Officer\\n \\n2 Network/Hardware T\\nechnician, 34 GD    \\n \\nProcessing Officer, 18 MNO, 1 Accountant\\n \\n1 Runner, 1 Office Boy and 1 Driver\\n \\n \\n    \\nAverage Workload per day:\\n \\n1000 \\n-\\n \\n1200 Import Documents (GDs)\\n \\n \\n    \\nAnnual Revenue:\\n \\n \\n \\nPK Rs. 14.5 million\\n \\n    \\nNature of work: \\n-\\n \\nOver all management of Cust\\nomer Services Centre, \\n \\n     \\nmaintain staff performance level check, manage imprest account, \\n \\n     \\nmaintain motivation factor in staff to increase productivity of work, \\n \\n    \\nCoordination with Customs, Shipping Companies, Clearing Agents, AIB \\n \\n     \\nand CPF/C\\nWT regarding day to day CSC issues, Improvement in existing \\n \\n     \\nsystem and setup to minimize the processing time of GD, Budget Activities\\n \\n     \\n2003\\n-\\n2004 and 2004\\n-\\n2005 successfully completed without any pressure.\\n \\n \\n \\n-\\n  \\nPeriod Dec\\n-\\n200\\n4\\n \\nto\\n \\nDec\\n-\\n2006\\n \\nas Project\\n \\nManager \\n\\n \\nExport Facilitation Centre\\n \\n   \\nEnvironment:\\n \\nIBM AS/400, OS/400, IBM Client Access & WAN Technology\\n \\n \\n    \\nStaff under control:\\n \\nForty Two (42), 1 User Assistant, 2 Supervisors, 1 Facilitation \\n \\nOfficer, 2 Exception Handing Officer\\n \\n1 Network/Hardware \\nTechnician, 15 DEO, \\n \\n10 Data Verifier, 6 Counter Handling Staff\\n \\n2 Runner, 1 Office Boy and 1 Driver\\n \\nKhawaja \\nAqil Ahmed CV\\n \\n \\n \\nPage \\n6\\n \\nof \\n6\\n \\n \\n    \\nAverage Workload per day:\\n \\n500 Export Documents (GDs)\\n \\n \\n    \\nAnnual Revenue:\\n \\n \\n \\nPK Rs. 7.5 million\\n \\n \\n    \\nNature of work: \\n-\\n \\nFirst to removed the mismanagement culture at EFC \\n \\n    \\nwithin a month, transparent daily transaction record keeping, maintain \\n \\n    \\nstaff performance level check, manage routine tasks, look\\n-\\nafter imprest \\n \\n    \\naccount. Coordination with different stack hol\\nders like Customs, KPT, \\n \\n    \\nKCAG, Shipping Companies, Computer Bureau, etc. regarding EFC \\n \\n    \\nroutine issues, improvement in existing system and setup.\\n \\n \\n \\nP\\nP\\nE\\nE\\nR\\nR\\nS\\nS\\nO\\nO\\nN\\nN\\nA\\nA\\nL\\nL\\n \\n-\\n   \\nNIC # 42101\\n-\\n7640606\\n-\\n3\\n \\n \\nI\\nI\\nN\\nN\\nF\\nF\\nO\\nO\\nR\\nR\\nM\\nM\\nA\\nA\\nT\\nT\\nI\\nI\\nO\\nO\\nN\\nN\\n:\\n:\\n \\n-\\n   \\nPassport # A2378679\\n \\n \\n-\\n   \\nNTN # 1130343\\n \\n \\n-\\n   \\nM\\narr\\nied\\n \\n \\n-\\n   \\nNationality \\n-\\n \\nPakistani\\n \\n'"
            ]
          },
          "metadata": {},
          "execution_count": 127
        }
      ]
    },
    {
      "cell_type": "code",
      "execution_count": null,
      "metadata": {
        "id": "TpzVNqfHL-ge"
      },
      "outputs": [],
      "source": [
        "text = \"\"\"\n",
        "2 years experience ','JAVA','developer','development','REST','SOAP','API','Web Services','database structures', 'statistical analysis','analytical mindset','problem solving skills','verbal communication','excellent written skills','Java Programming Language','Ability to work','Software Engineeing','Computer Science','Masters in CS','fast pace environment','Bachelors'\"\"\""
      ]
    },
    {
      "cell_type": "code",
      "execution_count": null,
      "metadata": {
        "id": "I42vV7O1L-gg"
      },
      "outputs": [],
      "source": [
        "# Convert all strings to lowercase\n",
        "text = text.lower()\n",
        "\n",
        "# Remove numbers\n",
        "text = re.sub(r'\\d+','',text)\n",
        "\n",
        "# Remove punctuation\n",
        "text = text.translate(str.maketrans('','',string.punctuation))"
      ]
    },
    {
      "cell_type": "code",
      "execution_count": null,
      "metadata": {
        "id": "EMVUVzSmL-gj",
        "colab": {
          "base_uri": "https://localhost:8080/",
          "height": 70
        },
        "outputId": "97ad917f-a47f-486e-a0c9-77937c1c354d"
      },
      "outputs": [
        {
          "output_type": "execute_result",
          "data": {
            "application/vnd.google.colaboratory.intrinsic+json": {
              "type": "string"
            },
            "text/plain": [
              "'\\n years experience javadeveloperdevelopmentrestsoapapiweb servicesdatabase structures statistical analysisanalytical mindsetproblem solving skillsverbal communicationexcellent written skillsjava programming languageability to worksoftware engineeingcomputer sciencemasters in csfast pace environmentbachelors'"
            ]
          },
          "metadata": {},
          "execution_count": 364
        }
      ],
      "source": [
        "text"
      ]
    },
    {
      "cell_type": "code",
      "source": [
        "text= text.replace(\"\\n\",\"\")\n"
      ],
      "metadata": {
        "id": "CByncpmz0k2M"
      },
      "execution_count": null,
      "outputs": []
    },
    {
      "cell_type": "code",
      "source": [
        "text"
      ],
      "metadata": {
        "colab": {
          "base_uri": "https://localhost:8080/",
          "height": 70
        },
        "id": "Px35JdofCQkg",
        "outputId": "c2905b24-ace4-4048-ab94-54ede2fc1f18"
      },
      "execution_count": null,
      "outputs": [
        {
          "output_type": "execute_result",
          "data": {
            "application/vnd.google.colaboratory.intrinsic+json": {
              "type": "string"
            },
            "text/plain": [
              "' years experience javadeveloperdevelopmentrestsoapapiweb servicesdatabase structures statistical analysisanalytical mindsetproblem solving skillsverbal communicationexcellent written skillsjava programming languageability to worksoftware engineeingcomputer sciencemasters in csfast pace environmentbachelors'"
            ]
          },
          "metadata": {},
          "execution_count": 366
        }
      ]
    },
    {
      "cell_type": "code",
      "execution_count": null,
      "metadata": {
        "id": "6cqBK2aIL-gl"
      },
      "outputs": [],
      "source": [
        "terms = {     \n",
        "         'ApplicationConsultant':['leadership','collaboration','ATM','conflict resolution','Digital Channels',\n",
        "                                       'integration protocols','ATM/CCDM Controller','analytical','verbal',\n",
        "                                       'ISO 8583 messages','IBFT','UBPS','Inter Bank Fund Transfers','Banking',\n",
        "                                       'Utility Bill Payment Services ','banking','finance','7','7 years experience'\n",
        "                                       'patient','reporting system','stake holder','Payments','client','satisfaction',\n",
        "                                       'implementation','delivery','administration','agile','budget','cost','direction','feasibility analysis',\n",
        "                              'finance','kanban','leader','leadership','management','milestones','planning',\n",
        "                              'pmi','pmp','problem','project','risk','schedule','scrum','stakeholders','operations','custom support','hardware','problem solving','database architecture',\n",
        "       'programming skills','VMWare','Virtual Box','networking','Information System','Computer Engineering','TCP/IP','Customer Care Service','decision making',\n",
        "       'cloud','solutions','designing','upgrading system','reporting system','associate application consultant'],\n",
        "         \n",
        "        \n",
        "        'JAVADeveloper':['2 years experience ','JAVA','developer','development','rest','soap','api','REST','SOAP','API','Web Services','database structures',\n",
        "                      'statistical analysis','analytical mindset','problem solving skills','api','application programming interface',\n",
        "                      'verbal communication','excellent written skills','Java Programming Language','Ability to work','Software Engineeing','Computer Science',\n",
        "                      'Masters in CS','fast pace environment','Bachelors','programming','coding','HTML','object oriented programming','OOP','java',\n",
        "                      'java developer']\n",
        "       \n",
        "       \n",
        "}\n",
        "       \n"
      ]
    },
    {
      "cell_type": "code",
      "execution_count": null,
      "metadata": {
        "id": "IsMAz59yL-gs"
      },
      "outputs": [],
      "source": [
        "# Initializie score counters for each area\n",
        "developer = 0\n",
        "consultant = 0\n",
        "\n",
        "# Create an empty list where the scores will be stored\n",
        "scores = []\n",
        "\n",
        "# Obtain the scores for each area\n",
        "for area in terms.keys():\n",
        "        \n",
        "    if area == 'ApplicationConsultant':\n",
        "        for word in terms[area]:\n",
        "            if word in text:\n",
        "              consultant+=1\n",
        "        scores.append(consultant)\n",
        "        \n",
        "    else:\n",
        "        for word in terms[area]:\n",
        "            if word in text:\n",
        "              developer +=1\n",
        "        scores.append(developer)"
      ]
    },
    {
      "cell_type": "code",
      "source": [
        "summary = pd.DataFrame(scores,index=terms.keys(),columns=['score']).sort_values(by='score',ascending=False)\n",
        "summary"
      ],
      "metadata": {
        "colab": {
          "base_uri": "https://localhost:8080/",
          "height": 112
        },
        "id": "cWvmxCW_MgIv",
        "outputId": "536dd7c2-66f3-4292-e443-07bad5db780b"
      },
      "execution_count": null,
      "outputs": [
        {
          "output_type": "execute_result",
          "data": {
            "text/html": [
              "\n",
              "  <div id=\"df-896d9923-beea-4193-91d6-e22344b4e149\">\n",
              "    <div class=\"colab-df-container\">\n",
              "      <div>\n",
              "<style scoped>\n",
              "    .dataframe tbody tr th:only-of-type {\n",
              "        vertical-align: middle;\n",
              "    }\n",
              "\n",
              "    .dataframe tbody tr th {\n",
              "        vertical-align: top;\n",
              "    }\n",
              "\n",
              "    .dataframe thead th {\n",
              "        text-align: right;\n",
              "    }\n",
              "</style>\n",
              "<table border=\"1\" class=\"dataframe\">\n",
              "  <thead>\n",
              "    <tr style=\"text-align: right;\">\n",
              "      <th></th>\n",
              "      <th>score</th>\n",
              "    </tr>\n",
              "  </thead>\n",
              "  <tbody>\n",
              "    <tr>\n",
              "      <th>JAVADeveloper</th>\n",
              "      <td>15</td>\n",
              "    </tr>\n",
              "    <tr>\n",
              "      <th>ApplicationConsultant</th>\n",
              "      <td>4</td>\n",
              "    </tr>\n",
              "  </tbody>\n",
              "</table>\n",
              "</div>\n",
              "      <button class=\"colab-df-convert\" onclick=\"convertToInteractive('df-896d9923-beea-4193-91d6-e22344b4e149')\"\n",
              "              title=\"Convert this dataframe to an interactive table.\"\n",
              "              style=\"display:none;\">\n",
              "        \n",
              "  <svg xmlns=\"http://www.w3.org/2000/svg\" height=\"24px\"viewBox=\"0 0 24 24\"\n",
              "       width=\"24px\">\n",
              "    <path d=\"M0 0h24v24H0V0z\" fill=\"none\"/>\n",
              "    <path d=\"M18.56 5.44l.94 2.06.94-2.06 2.06-.94-2.06-.94-.94-2.06-.94 2.06-2.06.94zm-11 1L8.5 8.5l.94-2.06 2.06-.94-2.06-.94L8.5 2.5l-.94 2.06-2.06.94zm10 10l.94 2.06.94-2.06 2.06-.94-2.06-.94-.94-2.06-.94 2.06-2.06.94z\"/><path d=\"M17.41 7.96l-1.37-1.37c-.4-.4-.92-.59-1.43-.59-.52 0-1.04.2-1.43.59L10.3 9.45l-7.72 7.72c-.78.78-.78 2.05 0 2.83L4 21.41c.39.39.9.59 1.41.59.51 0 1.02-.2 1.41-.59l7.78-7.78 2.81-2.81c.8-.78.8-2.07 0-2.86zM5.41 20L4 18.59l7.72-7.72 1.47 1.35L5.41 20z\"/>\n",
              "  </svg>\n",
              "      </button>\n",
              "      \n",
              "  <style>\n",
              "    .colab-df-container {\n",
              "      display:flex;\n",
              "      flex-wrap:wrap;\n",
              "      gap: 12px;\n",
              "    }\n",
              "\n",
              "    .colab-df-convert {\n",
              "      background-color: #E8F0FE;\n",
              "      border: none;\n",
              "      border-radius: 50%;\n",
              "      cursor: pointer;\n",
              "      display: none;\n",
              "      fill: #1967D2;\n",
              "      height: 32px;\n",
              "      padding: 0 0 0 0;\n",
              "      width: 32px;\n",
              "    }\n",
              "\n",
              "    .colab-df-convert:hover {\n",
              "      background-color: #E2EBFA;\n",
              "      box-shadow: 0px 1px 2px rgba(60, 64, 67, 0.3), 0px 1px 3px 1px rgba(60, 64, 67, 0.15);\n",
              "      fill: #174EA6;\n",
              "    }\n",
              "\n",
              "    [theme=dark] .colab-df-convert {\n",
              "      background-color: #3B4455;\n",
              "      fill: #D2E3FC;\n",
              "    }\n",
              "\n",
              "    [theme=dark] .colab-df-convert:hover {\n",
              "      background-color: #434B5C;\n",
              "      box-shadow: 0px 1px 3px 1px rgba(0, 0, 0, 0.15);\n",
              "      filter: drop-shadow(0px 1px 2px rgba(0, 0, 0, 0.3));\n",
              "      fill: #FFFFFF;\n",
              "    }\n",
              "  </style>\n",
              "\n",
              "      <script>\n",
              "        const buttonEl =\n",
              "          document.querySelector('#df-896d9923-beea-4193-91d6-e22344b4e149 button.colab-df-convert');\n",
              "        buttonEl.style.display =\n",
              "          google.colab.kernel.accessAllowed ? 'block' : 'none';\n",
              "\n",
              "        async function convertToInteractive(key) {\n",
              "          const element = document.querySelector('#df-896d9923-beea-4193-91d6-e22344b4e149');\n",
              "          const dataTable =\n",
              "            await google.colab.kernel.invokeFunction('convertToInteractive',\n",
              "                                                     [key], {});\n",
              "          if (!dataTable) return;\n",
              "\n",
              "          const docLinkHtml = 'Like what you see? Visit the ' +\n",
              "            '<a target=\"_blank\" href=https://colab.research.google.com/notebooks/data_table.ipynb>data table notebook</a>'\n",
              "            + ' to learn more about interactive tables.';\n",
              "          element.innerHTML = '';\n",
              "          dataTable['output_type'] = 'display_data';\n",
              "          await google.colab.output.renderOutput(dataTable, element);\n",
              "          const docLink = document.createElement('div');\n",
              "          docLink.innerHTML = docLinkHtml;\n",
              "          element.appendChild(docLink);\n",
              "        }\n",
              "      </script>\n",
              "    </div>\n",
              "  </div>\n",
              "  "
            ],
            "text/plain": [
              "                       score\n",
              "JAVADeveloper             15\n",
              "ApplicationConsultant      4"
            ]
          },
          "metadata": {},
          "execution_count": 369
        }
      ]
    },
    {
      "cell_type": "code",
      "source": [
        "pie = plt.figure(figsize=(10,10))\n",
        "plt.pie(summary['score'], labels=summary.index, explode = (0.1,0), autopct='%1.0f%%',shadow=True,startangle=90)\n",
        "plt.title('EURONET Hiring Candidate - Resume Decomposition by Areas')\n",
        "plt.axis('equal')\n",
        "plt.show()\n",
        "\n",
        "# Save pie chart as a .png file\n",
        "pie.savefig('resume_screening_results.png')"
      ],
      "metadata": {
        "colab": {
          "base_uri": "https://localhost:8080/",
          "height": 591
        },
        "id": "_KjgY9MFMvXa",
        "outputId": "59442cc8-fdff-42ae-815a-66e3ebdc0fde"
      },
      "execution_count": null,
      "outputs": [
        {
          "output_type": "display_data",
          "data": {
            "image/png": "[encoded data removed]",
            "text/plain": [
              "<Figure size 720x720 with 1 Axes>"
            ]
          },
          "metadata": {}
        }
      ]
    }
  ],
  "metadata": {
    "kernelspec": {
      "display_name": "Python 3",
      "language": "python",
      "name": "python3"
    },
    "language_info": {
      "codemirror_mode": {
        "name": "ipython",
        "version": 3
      },
      "file_extension": ".py",
      "mimetype": "text/x-python",
      "name": "python",
      "nbconvert_exporter": "python",
      "pygments_lexer": "ipython3",
      "version": "3.8.5"
    },
    "colab": {
      "name": "CVAnalysis.ipynb",
      "provenance": [],
      "collapsed_sections": []
    }
  },
  "nbformat": 4,
  "nbformat_minor": 0
}