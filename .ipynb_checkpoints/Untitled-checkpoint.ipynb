{
 "cells": [
  {
   "cell_type": "code",
   "execution_count": 1,
   "metadata": {},
   "outputs": [
    {
     "name": "stdout",
     "output_type": "stream",
     "text": [
      "[0, 2, 4, 6, 8]\n"
     ]
    }
   ],
   "source": [
    "even_numbers =list(range(0,10,2))\n",
    "print(even_numbers)"
   ]
  },
  {
   "cell_type": "code",
   "execution_count": 20,
   "metadata": {},
   "outputs": [],
   "source": [
    "list = []\n",
    "def is_prime(number):\n",
    "    for number in range(3,65):\n",
    "        if number <=1:\n",
    "            return False\n",
    "        elif number %2==0:\n",
    "            return True\n",
    "        else:\n",
    "            return False\n",
    "        \n",
    "#def get_primes(l)\n",
    "        \n",
    "            \n",
    "        \n",
    "def mersenne(p):\n",
    "    exp = 2^p - 1\n",
    "    return exp"
   ]
  },
  {
   "cell_type": "code",
   "execution_count": 24,
   "metadata": {},
   "outputs": [
    {
     "data": {
      "text/plain": [
       "False"
      ]
     },
     "execution_count": 24,
     "metadata": {},
     "output_type": "execute_result"
    }
   ],
   "source": [
    "is_prime(5)"
   ]
  },
  {
   "cell_type": "code",
   "execution_count": 35,
   "metadata": {},
   "outputs": [],
   "source": [
    "list1=[]\n",
    "def is_prime(number):\n",
    "    if number <= 1:\n",
    "        return False\n",
    "    \n",
    "    for factor in range(2, number):\n",
    "        if number % factor == 0:\n",
    "            return False\n",
    "\n",
    "    return True\n",
    "\n",
    "def print_primes(n):\n",
    "    for number in range(3, 65):\n",
    "        if is_prime(number):\n",
    "            print('%d is prime' % number)\n",
    "            \n",
    "def mersenne(n):\n",
    "     for number in range(3, 65):\n",
    "        if is_prime(number):\n",
    "            print('%d is prime' % number)\n",
    "            return list1.append(n)\n",
    "\n",
    "    "
   ]
  },
  {
   "cell_type": "code",
   "execution_count": 37,
   "metadata": {},
   "outputs": [
    {
     "name": "stdout",
     "output_type": "stream",
     "text": [
      "3 is prime\n"
     ]
    }
   ],
   "source": [
    "print_primes(65)"
   ]
  },
  {
   "cell_type": "code",
   "execution_count": 38,
   "metadata": {},
   "outputs": [
    {
     "name": "stdout",
     "output_type": "stream",
     "text": [
      "Mersenne prime numbers smaller than or equal to  31\n",
      "3 7 31 "
     ]
    }
   ],
   "source": [
    "# Program to generate mersenne primes\n",
    "\n",
    "# Generate all prime numbers\n",
    "# less than n.\n",
    "def SieveOfEratosthenes(n, prime):\n",
    "\n",
    "\t# Initialize all entries of boolean\n",
    "\t# array as true. A value in prime[i]\n",
    "\t# will finally be false if i is Not\n",
    "\t# a prime, else true bool prime[n+1]\n",
    "\tfor i in range(0, n + 1) :\n",
    "\t\tprime[i] = True\n",
    "\n",
    "\tp = 2\n",
    "\twhile(p * p <= n):\n",
    "\t\n",
    "\t\t# If prime[p] is not changed,\n",
    "\t\t# then it is a prime\n",
    "\t\tif (prime[p] == True) :\n",
    "\t\t\n",
    "\t\t\t# Update all multiples of p\n",
    "\t\t\tfor i in range(p * 2, n + 1, p):\n",
    "\t\t\t\tprime[i] = False\n",
    "\t\t\t\t\n",
    "\t\tp += 1\n",
    "\t\t\n",
    "# Function to generate mersenne\n",
    "# primes less than or equal to n\n",
    "def mersennePrimes(n) :\n",
    "\n",
    "\t# Create a boolean array\n",
    "\t# \"prime[0..n]\"\n",
    "\tprime = [0] * (n + 1)\n",
    "\n",
    "\t# Generating primes using Sieve\n",
    "\tSieveOfEratosthenes(n, prime)\n",
    "\n",
    "\t# Generate all numbers of the\n",
    "\t# form 2^k - 1 and smaller\n",
    "\t# than or equal to n.\n",
    "\tk = 2\n",
    "\twhile(((1 << k) - 1) <= n ):\n",
    "\t\n",
    "\t\tnum = (1 << k) - 1\n",
    "\n",
    "\t\t# Checking whether number\n",
    "\t\t# is prime and is one\n",
    "\t\t# less then the power of 2\n",
    "\t\tif (prime[num]) :\n",
    "\t\t\tprint(num, end = \" \" )\n",
    "\t\t\t\n",
    "\t\tk += 1\n",
    "\t\n",
    "# Driver Code\n",
    "n = 31\n",
    "print(\"Mersenne prime numbers smaller\",\n",
    "\t\t\t\"than or equal to \" , n )\n",
    "mersennePrimes(n)\n",
    "\n",
    "# This code is contributed\n",
    "# by Smitha\n"
   ]
  },
  {
   "cell_type": "code",
   "execution_count": null,
   "metadata": {},
   "outputs": [],
   "source": []
  }
 ],
 "metadata": {
  "kernelspec": {
   "display_name": "Python 3",
   "language": "python",
   "name": "python3"
  },
  "language_info": {
   "codemirror_mode": {
    "name": "ipython",
    "version": 3
   },
   "file_extension": ".py",
   "mimetype": "text/x-python",
   "name": "python",
   "nbconvert_exporter": "python",
   "pygments_lexer": "ipython3",
   "version": "3.8.5"
  }
 },
 "nbformat": 4,
 "nbformat_minor": 4
}
