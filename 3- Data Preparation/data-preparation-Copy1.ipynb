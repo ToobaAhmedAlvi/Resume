{
 "cells": [
  {
   "cell_type": "code",
   "execution_count": 10,
   "metadata": {},
   "outputs": [],
   "source": [
    "import pandas as pd\n",
    "import seaborn as sns\n",
    "import numpy as np\n",
    "import matplotlib.pyplot as plt\n",
    "plt.rcParams['figure.figsize'] = [12, 8]\n",
    "\n",
    "import warnings\n",
    "warnings.filterwarnings(\"ignore\")"
   ]
  },
  {
   "cell_type": "markdown",
   "metadata": {},
   "source": [
    "# ABOUT THE DATA SET"
   ]
  },
  {
   "cell_type": "markdown",
   "metadata": {},
   "source": [
    "The dataset comprises of 4 job categories that are Application Consultant ,JAVA Developer,Data Analyst and Project Manager."
   ]
  },
  {
   "cell_type": "code",
   "execution_count": 11,
   "metadata": {},
   "outputs": [
    {
     "data": {
      "text/html": [
       "<div>\n",
       "<style scoped>\n",
       "    .dataframe tbody tr th:only-of-type {\n",
       "        vertical-align: middle;\n",
       "    }\n",
       "\n",
       "    .dataframe tbody tr th {\n",
       "        vertical-align: top;\n",
       "    }\n",
       "\n",
       "    .dataframe thead th {\n",
       "        text-align: right;\n",
       "    }\n",
       "</style>\n",
       "<table border=\"1\" class=\"dataframe\">\n",
       "  <thead>\n",
       "    <tr style=\"text-align: right;\">\n",
       "      <th></th>\n",
       "      <th>Category</th>\n",
       "      <th>Resumes</th>\n",
       "    </tr>\n",
       "  </thead>\n",
       "  <tbody>\n",
       "    <tr>\n",
       "      <th>0</th>\n",
       "      <td>Application Consultant</td>\n",
       "      <td>samama hill view block  gulistanejauhar karac...</td>\n",
       "    </tr>\n",
       "    <tr>\n",
       "      <th>1</th>\n",
       "      <td>JAVA developer</td>\n",
       "      <td>contactykphotmailcomwwwlinkedincominmuhammadmu...</td>\n",
       "    </tr>\n",
       "    <tr>\n",
       "      <th>2</th>\n",
       "      <td>Application Consultant</td>\n",
       "      <td>a experience   worked on several projects majo...</td>\n",
       "    </tr>\n",
       "    <tr>\n",
       "      <th>3</th>\n",
       "      <td>Application Consultant</td>\n",
       "      <td>\\nArsalan  Alam  Siddiqui  \\n\\nComplete curren...</td>\n",
       "    </tr>\n",
       "    <tr>\n",
       "      <th>4</th>\n",
       "      <td>Application Consultant</td>\n",
       "      <td>Contactstd_20585@iobm.edu.pkwww.linkedin.com/i...</td>\n",
       "    </tr>\n",
       "  </tbody>\n",
       "</table>\n",
       "</div>"
      ],
      "text/plain": [
       "                 Category                                            Resumes\n",
       "0  Application Consultant   samama hill view block  gulistanejauhar karac...\n",
       "1          JAVA developer  contactykphotmailcomwwwlinkedincominmuhammadmu...\n",
       "2  Application Consultant  a experience   worked on several projects majo...\n",
       "3  Application Consultant  \\nArsalan  Alam  Siddiqui  \\n\\nComplete curren...\n",
       "4  Application Consultant  Contactstd_20585@iobm.edu.pkwww.linkedin.com/i..."
      ]
     },
     "execution_count": 11,
     "metadata": {},
     "output_type": "execute_result"
    }
   ],
   "source": [
    "data = pd.read_csv('new_data.csv',encoding ='ISO-8859-1')#importing data\n",
    "data.head()"
   ]
  },
  {
   "cell_type": "code",
   "execution_count": 12,
   "metadata": {},
   "outputs": [
    {
     "data": {
      "text/plain": [
       "(200, 2)"
      ]
     },
     "execution_count": 12,
     "metadata": {},
     "output_type": "execute_result"
    }
   ],
   "source": [
    "data.shape"
   ]
  },
  {
   "cell_type": "code",
   "execution_count": 13,
   "metadata": {},
   "outputs": [
    {
     "data": {
      "text/plain": [
       "Index(['Category', 'Resumes'], dtype='object')"
      ]
     },
     "execution_count": 13,
     "metadata": {},
     "output_type": "execute_result"
    }
   ],
   "source": [
    "data.columns"
   ]
  },
  {
   "cell_type": "code",
   "execution_count": 14,
   "metadata": {},
   "outputs": [
    {
     "data": {
      "text/plain": [
       "Category    object\n",
       "Resumes     object\n",
       "dtype: object"
      ]
     },
     "execution_count": 14,
     "metadata": {},
     "output_type": "execute_result"
    }
   ],
   "source": [
    "data.dtypes"
   ]
  },
  {
   "cell_type": "code",
   "execution_count": 15,
   "metadata": {},
   "outputs": [
    {
     "data": {
      "text/plain": [
       "Application Consultant    65\n",
       "JAVA developer            51\n",
       "Project Manager           43\n",
       "Data Analyst              41\n",
       "Name: Category, dtype: int64"
      ]
     },
     "execution_count": 15,
     "metadata": {},
     "output_type": "execute_result"
    }
   ],
   "source": [
    "data['Category'].value_counts()"
   ]
  },
  {
   "cell_type": "code",
   "execution_count": 16,
   "metadata": {},
   "outputs": [
    {
     "data": {
      "text/plain": [
       "Education Details \\r\\nJanuary 2016 B.E Information Technology Pune, Maharashtra Sawitribai Phule Pune University\\r\\nJava Developer \\r\\n\\r\\nJava Developer - Vertical Software\\r\\nSkill Details \\r\\nCompany Details \\r\\ncompany - Vertical Software\\r\\ndescription - Expertise in design and development of web applications using J2EE, Servlets\\r\\nJSP, JavaScript, HTML, CSS, JQUERY, AJAX, JSON.\\r\\n\\r\\nExperienced in developing applications using MVC architecture.\\r\\n\\r\\nGood understanding of Software Development Life Cycle Phases such as Requirement\\r\\ngathering, analysis, design, development and unit testing.\\r\\n\\r\\nLanguages & open Source Java, J2EE, Spring, Hibernate\\r\\nFrame Work\\r\\n\\r\\nScripting Languages & Server Java JSP, Servlets, DB Connectivity's\\r\\nSide Program JDBC, JavaScript, jQuery, Ajax, JSON\\r\\n\\r\\nApplication Server TomCat\\r\\nDatabase MongoDB, MySql\\r\\nIDEs Eclipse\\r\\n\\r\\n1. Project Title: Expense Ledger\\r\\nRole: Java Developer\\r\\nTools and Technologies: Java, Jsp, Servlet, MySql, JavaScript, Json, Jquery, Ajax.\\r\\n\\r\\n2. Project Title: Trimurti Developer (Realestate)\\r\\nRole: Java Developer\\r\\nTools and Technologies: Java, Jsp, Servlet, MySql, JavaScript, Json, Jquery, Ajax.\\r\\n\\r\\n3. Project Title: Vimay Enterprise\\r\\nRole: Java Developer\\r\\nTools and Technologies: Java, Jsp, Spring, Hibernate, Maven, Jquery, Ajax.\\r\\ncompany - Higher Secondary School\\r\\ndescription - Pune, 58.8%                                                                                                                                                                                                                                                                                                                                                                                                                                                                                                                                                                                                                                                                                                                                                                                                                                                                                                                                                                                                                                                                                                                                                                                                                                                                                                                                                                                                                                                                                                                                                                                                                                                                                                                                                                                                                                                                                                                                                                                                                                                                                                                                                                                                                                                                                                                                                                                                                                                                                                                                                                                                                                                                                                                                                                                                                                                                                                                                                                                                                                                                                                                                                                                                                                                                                                                                                                                                                                                                                                                                                                                                                                                                                                                                                                                                                             10\n",
       " marketing certificationcertificate of appreciation for servingas a mentor for karachi codecontent marketinghonorsawardsvice chancellors listdeans honor listdeans honor listdeans honor listfarhaj ahmedsoftware engineer  ios  hudasoftpakistansummarycurrently a software engineer  ios at hudasoft inc previouslyworked as an assistant project manager at cee solutions privatelimited and ios engineer at time based software llc with years of experience in ios native application development and alsoa teammate of swift pakistan developers communitywithin the past few years i trained undergraduate students andprofessionals for ios application development at zeal internationaltraining center furthermore conducted ios training andworkshops at wellreputed universities in pakistan and now have myown youtube channel to create uptodate tech education contentfor people for free besides training for ios app development icreate meaningful content related to selfdevelopment business andstartup development as for recent qualifications i graduated last year with an mba inmarketing from the institute of business administration karachiyou can find me on youtube at httpwwwyoutubecomcfarhajahmedexperiencehudasoftsoftware engineer  iosfebruary   present  monthstexas united states write clean and efficient codes for ios applications recommend changes and feature enhancements manage the entire application lifecycle from concept to design testingrelease and support maintain the code with new coding practices modern design patterns andmobile technology trendspage  of  identify potential problems and resolve application bottlenecks fix application bugs before the final release collaborate with the design team to define app features ensure quality and performance of the application to specifications publish application on app store maintain and optimize the code of the application as per the swift styleguide troubleshoot to ensure the code is concise clean reusable and securecee solutions pvt ltdassistant project managerjune   february   monthskarachi division pakistani was responsible for the management of internal and external projects whilealso managing the marketing of the organization my core responsibilities were managing project progress and adapting work as required preparing project proposal business requirements and softwarespecification documents for all the projects meeting clients and gathering requirements to guide the development team managing relationships with clients and stakeholders overseeing all incoming and outgoing project documentation developing project plans for digital marketing and enterprise applicationtracks assigning and delegating work to the development team client coordination and communication managing a small team of project coordinators maintaining a talent pool for smooth operationsdigipakistan  national skills development initiativeios lead trainermay   december   monthslahore district punjab pakistandigipakistan national skills development program is an it initiativelaunched with the vision of pakistans digital ambition and to work towards adigitally progressive and inclusive pakistan im appointed here as an ios leadtrainer to train and conduct online classes for the youth of pakistan related toios development i create and upload uptodate ios development trainingcontent in urdu and hindipage  of zeal international training centerios trainerdecember   march   year  monthskar?chi sindh pakistani was responsible for creating and updating course content for iosdevelopment i have prepared international standard training content to trainstudents for ios native application development in addition to this i also didsocial media marketing to promote the course online i have conducted onlineand onsite training sessions i have trained a total of four batches under zitcfor the batches that i trained  undergraduate students and professionalsgot job and internship offers from local and international tech firmsngogoproduct management traineejune   august   monthskar?chi sindh pakistan assigned several tasks related to understanding different customer segmentsfor the digital product conducted interviews and built presentations to summarize my findings recommended several product features to the product development team toimprovise user experience of the digital product divided customers into groups to market for digital products presented findings obtained from interviewstime based software llcios engineerfebruary   december   years  monthskarachi pakistan developed ios version of potluck app httpsappsapplecomusapppotluckpartyid checked for the quality and responsiveness of applications debugged and improved application performance assisted in maintaining code quality and its organization engaged with the team to define design and ship new features interviewed candidates for the development teameducationinstitute of business administrationmaster of business administration  mba marketing ·   page  of dha suffa universitybachelors degree computer science ·   page  of      6\n",
       "Technical Skills (Trained / Project Acquired Skills) ÃÂ¢ÃÂÃÂ¢ Languages Known: C, C++, J2EE, Spring, Hibernate. ÃÂ¢ÃÂÃÂ¢ Testing: Functional Testing, Manual Testing. ÃÂ¢ÃÂÃÂ¢ Operating Systems: Windows & Linux. ÃÂ¢ÃÂÃÂ¢ Packages: MS-office. ÃÂ¢ÃÂÃÂ¢ Databases: My SQL & PostgreSQL.Education Details \\r\\nJanuary 2013 to January 2017 B.E Computer Science and Engineering  RTMNU University - Jhulelal Institute of Technology\\r\\nJanuary 2011 to January 2013 HSC  Nagpur, Maharashtra Maharashtra State Board - Dayanand Arya Kanya Junior College\\r\\nJanuary 2010 to January 2011 SSC  Nagpur, Maharashtra Maharashtra State Board\\r\\nJava Developer \\r\\n\\r\\nJava Developer - Inouvelle Ventures Private Limited\\r\\nSkill Details \\r\\nJ2EE- Exprience - 17 months\\r\\nC++- Exprience - 6 months\\r\\nDATABASES- Exprience - 6 months\\r\\nFUNCTIONAL TESTING- Exprience - 6 months\\r\\nLINUX- Exprience - 6 monthsCompany Details \\r\\ncompany - Inouvelle Ventures Private Limited\\r\\ndescription - Nagpur.\\r\\n1.   Project name: Stock Management System\\t\\tDecember 2017 - Till Date\\r\\nLanguage of implementation: Angular (Frontend), JAVA - J2EE, spring, Hibernate Framework (Backend)\\r\\n& PostgresSql Database.\\r\\nRole: Java Developer\\r\\nOperating system: Windows XP/07/08\\r\\nDescription: Stock management System is Specially Developing for the Medicinal Market. This software is developing to keep the track of medicines, ailments, surgical Equipments, & also to keep the track of Wholesalers, Retailers, Employees, & Customers of the Company. Stock management system is the practice of ordering, storing, tracking, and controlling\\r\\ninventory. Debtor invoicing software helps small businesses and freelancers keep track of company assets   .. Stock\\r\\nmanagement may also be called stock control, inventory management or inventory control.\\r\\ncompany - Inouvelle Ventures Private Limited\\r\\ndescription - Project Profile\\r\\ncompany - Inouvelle Ventures Private Limited\\r\\ndescription - Language of implementation: Angular (Frontend), JAVA - J2EE, spring, Hibernate Framework (Backend)\\r\\n& PostgresSql Database.\\r\\nRole: Java Developer, Manual Testing.\\r\\nOperating system: Windows XP/07/08\\r\\nDescription: This Project is done for the Oldest Printing Press in Nagpur. The proposed web based Printing Press\\r\\nManagement System designed according to user and system requirement to fulfil the existing problems. This system offers the products and services that enhance organization growth, efficiency, and profitability.                                                                                                                                                                                                                                                                                                                                                                                                                                                                                                                                                                                                                                                                                                                                                                                                                                                                                                                                                                                                                                                                                                                                                                                                                                                                                                                                                                                                                                                                                                                                                                                                                                                                                                                                                                                                                                                                                                                                                                                                                                                                                                                                                                                                                                                                                                                                                                                                                                                                                                                                                                                                                                                                                  6\n",
       "contact homeengrrakeshgmailcomwwwlinkedincominengrrakeshlinkedintop skillsmultisimmatlabproteusleading ei department  pepsico beveragestharparkar districtsummarya diligent creative and enthusiastic professional with experiencein developing innovative concepts for designing electrical systemspossess excellent problemsolving skills coupled with a positiveattitude towards life which enables me to excel in differentenvironments and work under stressful conditions with tightdeadlinesexperiencehaidri beverages pvt ltd pepsicola international franchiselead eifebruary   present  monthsislamabad isl?m?b?d pakistanelectrical  instrumentation departmentunifood industries ltdlead technical  projects departmentoctober   february   years  monthsbalochistan pakistanengineering  projects departmentlotte kolson pvt limitedasst manager ei departmentseptember   october   years  monthskar?chi sindh pakistanelectronics  instrumentation departmenthilal foods pvt ltdexecutive ei departmentmay   august   years  monthspakistanelectrical  instrumentation departmentgourmet foods dubaisr executive engineeraugust   september   monthspage  of dubai united arab emiratessiemensengineering traineejanuary   april   monthspakistanenergy service departmentzoom consultancy ltdjunior engineeraugust   december   year  monthskarachi pakistaneducationshaheed zulfikar ali bhutto institute of science and technologymaster of science  ms project management · september   januaryned university of engineering and technologybachelor of engineering be industrial electronics ·   page  of                                                                                                                                                                                                                                                                                                                                                                                                                                                                                                                                                                                                                                                                                                                                                                                                                                                                                                                                                                                                                                                                                                                                                                                                                                                                                                                                                                                                                                                                                                                                                                                                                                                                                                                                                                                                                                                                                                                                                                                                                                                                                                                                                                                                                                                                                                                                                                                                                                                                                                                                                                                                                                                                                                                                                                                                                                                                                                                                                                                                                                                                                                                                                                                                                                                                                                                                                                                                                                                                                                                                                                                                                                                                       6\n",
       "impact and tangible results to benefit of gpug members advise in the direction for planning and preparing for a successful annualgpug summit conference including direction on session topics andpresentersadvisory board memberdecember   december   year  monthadvise in the gpug direction upcoming events magazine content topics forwebinars etchelp create strong impact and tangible results to benefit of gpug members advise in the direction for planning and preparing for a successful annualgpug summit conference including direction on session topics andpresentersdynamics gp user group gpug ohio chapterchairmanmay   january   years  monthsohioassist with the coordination of chapter meetings procurement of smessubject matter experts presenters speakers hosts and partner sponsorsnetwork with individuals andor companies to promote involvement with andthe joining of the gpug ohio chapterthe gorilla glue companyinformation technology systems administratorjuly   june   yearscincinnati ohit support staff managerassist with setting it performance standardsassist with maintaining it budgetevaluate new system specifications and provide recommendationspage  of evaluate new vendors and maintain vendor relationshipsmanage strategic it projects manage it equipment deploymentproject manager and administrator of dynamics gp and dynamics crmsql server reporting service ssrs report development through sqlserver management studio ssms and visual studio report builder bidsstrategize with it manager on forward looking initiative for businessapplicationsdevelop ideas for future use of applications and how they will work within thecompany environmentatricure incsystem administratorfebruary   july   years  monthswest chester ohadministration of dynamics gp and dynamics crmsql server reporting service ssrs report development through sqlserver management studio ssms and visual studio report builder bidsdevelop kpis based on dynamics gp data the kpis are then displayedthroughout the companystrategize with it manager on forward looking initiative for businessapplicationsdevelop ideas for future use of applications and how they will work within thecompany environmentset up office  accessibility with our european teamplanes companies years  monthsdatabase analystaugust   february   years  monthswest chester oh data integrity and data preparation development and maintenance of reports utilizing microsoft sql servermanagement studio microsoft visual studio microsoft reporting services administer and maintain company microsoft dynamics crm system microsoft dynamics gp system intranet system concur online expense systempage  of  develop online enduser surveys and  or forms for customers to submitinformation  feedback data is stored in a sql database for retrieval throughreport services develop and maintain websites for company with subwebsite for eachdivision  department assist in the evaluation and selection of appropriate softwarehardwaresolutions monitor systems in order to optimize performance and to initiate recoveryaction after system failures provide training in various areas including but not limited to systems use andaccessis marketing specialist  project managerjuly   august   years  monthswest chester ohcoordination and management of webbased projects such as the companywebsites and branding development of sales reports and marketing materials coordination of sales companyrelated eventsimplementation of crm system with the sales team which includeddeployment training and administrationeducationcaresource universityleadership essentials building your influence as a leader ·   crm universitymicrosoft dynamics crm ·   caresource universitynavigating change ·   caresource universitymyersbriggs training ·   edxthe science of everyday thinking ·   page  of                                                                                                                                                                                                                                                                                                                                                                                                                                                                                                                                                                                                                                                                                                                                                                                                                                                                                                                                                                                                                                                                                                                                                                                                                                                                                                                                            6\n",
       "                                                                                                                                                                                                                                                                                                                                                                                                                                                                                                                                                                                                                                                                                                                                                                                                                                                                                                                                                                                                                                                                                                                                                                                                                                                                                                                                                                                                                                                                                                                                                                                                                                                                                                                                                                                                                                                                                                                                                                                                                                                                                                                                                                                                                                                                                                                                                                                                                                                                                                                                                                                                                                                                                                                                                                                                                                                                                                                                                                                                                                                                                                                                                                                                                                                                                                                                                                                                                                                                                                                                                                                                                                                                                                                                                                                                                                                                                                                                                                                                                                                                                                                                                                                                                                                                                                                                                                                                                                                                                                                                                                                                                                                                                                                                                                                                                                                                                                                                                                                                                                                                                                                                                                                                                                                                                                 ..\n",
       "Data Base Management, Data WareHouses,Data Mining , Data Cleaning ,DATA Optimal SOLUTIONS- Exprience - 24 months Data Science,\"Skills Ã¢ÂÂ¢ Python Ã¢ÂÂ¢ Tableau Ã¢ÂÂ¢ Data Visualization Ã¢ÂÂ¢ R Studio Ã¢ÂÂ¢ Machine Learning Ã¢ÂÂ¢ Statistics IABAC Certified Data Scientist with versatile experience over 1+ years in managing business, data science consulting and leading innovation projects, bringing business ideas to working real world solutions. Being a strong advocator of augmented era, where human capabilities are enhanced by machines, Fahed is passionate about bringing business concepts in area of machine learning, AI, robotics etc., to real life solutions.Education Details                                                                                                                                                                                                                                                                                                                                                                                                                                                                                                                                                                                                                                                                                                                                                                                                                                                                                                                                                                                                                                                                                                                                                                                                                                                                                                                                                                                                                                                                                                                                                                                                                                                                                                                                                                                                                                                                                                                                                                                                                                                                                                                                                                                                                                                                                                                                                                                                                                                                                                                                                                                                                                                                                                                                                                                                                                                                                                                                                                                                                                                                                                                                                                                                                                                                                                                                                                                                                                                                                                                                                                                                                                                                                                                                                                                                                                                                                                                                                                                                                                                                                                                                                                                                                                                                                                                                                                                                                                                                                                                                                                                 1\n",
       "Critical thinker,Data Pre Processing,Data Strcutures ,Algorthims, Statistical Analysis & Modelling, DATA SCIENCE- Exprience - 24 months Data Science,\"Skills Ã¢ÂÂ¢ Python Ã¢ÂÂ¢ Tableau Ã¢ÂÂ¢ Data Visualization Ã¢ÂÂ¢ R Studio Ã¢ÂÂ¢ Machine Learning Ã¢ÂÂ¢ Statistics IABAC Certified Data Scientist with versatile experience over 1+ years in managing business, data science consulting and leading innovation projects, bringing business ideas to working real world solutions. Being a strong advocator of augmented era, where human capabilities are enhanced by machines, Fahed is passionate about bringing business concepts in area of machine learning, AI, robotics etc., to real life solutions.Education Details                                                                                                                                                                                                                                                                                                                                                                                                                                                                                                                                                                                                                                                                                                                                                                                                                                                                                                                                                                                                                                                                                                                                                                                                                                                                                                                                                                                                                                                                                                                                                                                                                                                                                                                                                                                                                                                                                                                                                                                                                                                                                                                                                                                                                                                                                                                                                                                                                                                                                                                                                                                                                                                                                                                                                                                                                                                                                                                                                                                                                                                                                                                                                                                                                                                                                                                                                                                                                                                                                                                                                                                                                                                                                                                                                                                                                                                                                                                                                                                                                                                                                                                                                                                                                                                                                                                                                                                                                                                                                                                                                          1\n",
       "contactwwwlinkedincominosamamustafa linkedintop skillssettlementseod processingcustomer serviceosama mustafaapplication consultant at euronet pakistan private limitedpakistansummaryexperienced system engineer with a demonstrated history ofworking in the financial services industry strong informationtechnology professional skilled in analytical skills projectimplementation iso payment card industry data securitystandard pci dss and mobile paymentsexperienceeuronet pakistan years  monthsapplication consultantapril   present  yearkar?chi sindh pakistanasst application consultantjanuary   april   years  monthskar?chi sindh pakistansystem engineerjanuary   january   year  monthbahria complex iii mt khan rd karachicredit card system iccs validation testing analysis configuration uitestingprovide technical support for the client queries and problems causingdeclinedatm addition posresponsible to daily operations  incoming  outgoing process of authorizationtransactions and provide reports to clients preparing monthly mis reports and monthly volumes statistics of cardstransactions merchant ids terminals ids mnet  switch mis memberbanks cms monthly transactions merchant setups  payment etc withtransactions report operations to senior managementpage  of handling queries complaints  correspond independently to the utmostsatisfaction of customersdata extraction from database using sql for customersproviding technical level support for alternate distributed channelstransactions atm  pos root cause analysis of the problem for resolution of issueresponsible for deployment of the package both onsite and from inhouseremotely involved in uat sessions in order to validate the system requirements andfinal goals give complete product training to the fresh resources in the teamacquirer  atms  pos  channels configuration into the systemassociate system engineerseptember   january   year  monthsbahria complex iii mt khan rd karachioperations  monitoringitm cupmnetgatewayvisaeodresponsibilities provides training  guidelines to newly hired staff customer support analysts eod processing for all clients monitor transactions provide first level customer  technical support to the customers memberbanks execution of different queries on itm  for transaction extraction purpose visa mastercard transaction settlement processing outgoing  incomingtransactions perform incident management in case of any incident reported by client orcustomer  technical and operational support perform investigation on daily log files to provide initial information andresolution details to customer provide daily reports to the client cms card linking dlinkingpage  of  execution of daily and monthly backups and coordination with ibm datacentre team for tap library uploadasst customer support analystnovember   september   monthsbahria complex iii mt khan road karachipearl continental hotel karachice coordinator shift supervisorfebruary   november   year  monthskarachi pakistangfk etilize private limitedassociate data processing engineerfebruary   november   monthskarachi pakistanextract data from different sources for different products for internationalclientseducationkarachi universitybachelors degree computer science ·   page  of                                                                                                                                                                                                                                                                                                                                                                                                                                                                                                                                                                                                                                                                                                                                                                                                                                                                                                                                                                                                                                                                                                                                                                                                                                                                                                                                                                                                                                                                                                                                                                                                                                                                                                                                                                                                                                                                                                                   1\n",
       "contactmaheenunzeelahgmailcomwwwlinkedincominmaheenunzeelahba linkedingithubcommaheenunzeelahpersonaltop skillsjavascriptreactjsccertificationsmern stack front to backredux saga with react fasttrackredux saga intro courseweb deveopment bootcampmodern javascript frombeginningmaheen unzeelahmsds  fastnuces  react js developer  data sciencekar?chisummary doing masters in data science from fastnuces junior react js developer at cloud primero bv and currentlyworking on product jogoai recently did certification in data science from ftilearned basics of python and its libraries got to know about edasupervised and unsupervisedlearning time series analysis and currently doing a capstoneproject related to demand analysisusing time seriesex react js intern at softnatecertified full stack mern developer from sir syed universitylearned react js redux restful apis node js and mongodb in fullstack development course andpracticed the concepts by developing some projects software engineer graduated from ned universityduring my bachelors life i learned data structures oop conceptsweb development artificialintelligence database management systems operating systemetc i tried to implement them bydeveloping projects internships helped me a lot in understandinghow things work in industry andwhat is the practical use of whatever i studied in universityexperiencejogoaijunior react js developermarch   december   monthskar?chi sindh pakistancloud primero bvjunior react js developerdecember   december   year  monthkar?chi sindh pakistanpage  of softnate monthsfrontend engineerapril   july   monthskar?chi sindh pakistanreactjs developerex front end engineerapril   july   monthskar?chi sindh pakistaneducationnational university of computer and emerging sciencesmasters degree data science Â· september ned university of engineering and technologybachelors degree computer software engineering cgpa Â·   bamm pechs govt college for womenfcs preengineering Â·   shamsi society model schoolhcs computer science Â·   page  of                                                                                                                                                                                                                                                                                                                                                                                                                                                                                                                                                                                                                                                                                                                                                                                                                                                                                                                                                                                                                                                                                                                                                                                                                                                                                                                                                                                                                                                                                                                                                                                                                                                                                                                                                                                                                                                                                                                                                                                                                                                                                                                                                                                                                                                                                                                                                                                                                                                                                                                                                                                                                                                                                                                                                                                                                                                                                                                                                                                                                                                                                                                                                                                             1\n",
       "Data Segmentation, Fragmentation,Data Manipulation,Multi threading,Tableau- Exprience - 24 monthsCompany Details                                                                                                                                                                                                                                                                                                                                                                                                                                                                                                                                                                                                                                                                                                                                                                                                                                                                                                                                                                                                                                                                                                                                                                                                                                                                                                                                                                                                                                                                                                                                                                                                                                                                                                                                                                                                                                                                                                                                                                                                                                                                                                                                                                                                                                                                                                                                                                                                                                                                                                                                                                                                                                                                                                                                                                                                                                                                                                                                                                                                                                                                                                                                                                                                                                                                                                                                                                                                                                                                                                                                                                                                                                                                                                                                                                                                                                                                                                                                                                                                                                                                                                                                                                                                                                                                                                                                                                                                                                                                                                                                                                                                                                                                                                                                                                                                                                                                                                                                                                                                                                                                                                                                                                                  1\n",
       "Name: Resumes, Length: 99, dtype: int64"
      ]
     },
     "execution_count": 16,
     "metadata": {},
     "output_type": "execute_result"
    }
   ],
   "source": [
    "data['Resumes'].value_counts()"
   ]
  },
  {
   "cell_type": "code",
   "execution_count": 17,
   "metadata": {},
   "outputs": [
    {
     "data": {
      "text/html": [
       "<div>\n",
       "<style scoped>\n",
       "    .dataframe tbody tr th:only-of-type {\n",
       "        vertical-align: middle;\n",
       "    }\n",
       "\n",
       "    .dataframe tbody tr th {\n",
       "        vertical-align: top;\n",
       "    }\n",
       "\n",
       "    .dataframe thead th {\n",
       "        text-align: right;\n",
       "    }\n",
       "</style>\n",
       "<table border=\"1\" class=\"dataframe\">\n",
       "  <thead>\n",
       "    <tr style=\"text-align: right;\">\n",
       "      <th></th>\n",
       "      <th>count</th>\n",
       "      <th>unique</th>\n",
       "      <th>top</th>\n",
       "      <th>freq</th>\n",
       "    </tr>\n",
       "  </thead>\n",
       "  <tbody>\n",
       "    <tr>\n",
       "      <th>Category</th>\n",
       "      <td>200</td>\n",
       "      <td>4</td>\n",
       "      <td>Application Consultant</td>\n",
       "      <td>65</td>\n",
       "    </tr>\n",
       "    <tr>\n",
       "      <th>Resumes</th>\n",
       "      <td>200</td>\n",
       "      <td>99</td>\n",
       "      <td>Education Details \\r\\nJanuary 2016 B.E Informa...</td>\n",
       "      <td>10</td>\n",
       "    </tr>\n",
       "  </tbody>\n",
       "</table>\n",
       "</div>"
      ],
      "text/plain": [
       "         count unique                                                top freq\n",
       "Category   200      4                             Application Consultant   65\n",
       "Resumes    200     99  Education Details \\r\\nJanuary 2016 B.E Informa...   10"
      ]
     },
     "execution_count": 17,
     "metadata": {},
     "output_type": "execute_result"
    }
   ],
   "source": [
    "data.describe().transpose()"
   ]
  },
  {
   "cell_type": "code",
   "execution_count": 18,
   "metadata": {},
   "outputs": [
    {
     "data": {
      "text/plain": [
       "Category    0\n",
       "Resumes     0\n",
       "dtype: int64"
      ]
     },
     "execution_count": 18,
     "metadata": {},
     "output_type": "execute_result"
    }
   ],
   "source": [
    "data.isna().sum()"
   ]
  },
  {
   "cell_type": "code",
   "execution_count": 19,
   "metadata": {},
   "outputs": [
    {
     "data": {
      "text/plain": [
       "<bound method Series.sum of 0      False\n",
       "1      False\n",
       "2      False\n",
       "3      False\n",
       "4      False\n",
       "       ...  \n",
       "195     True\n",
       "196     True\n",
       "197     True\n",
       "198     True\n",
       "199     True\n",
       "Length: 200, dtype: bool>"
      ]
     },
     "execution_count": 19,
     "metadata": {},
     "output_type": "execute_result"
    }
   ],
   "source": [
    "data.duplicated().sum"
   ]
  },
  {
   "cell_type": "code",
   "execution_count": 20,
   "metadata": {},
   "outputs": [
    {
     "name": "stdout",
     "output_type": "stream",
     "text": [
      "<class 'pandas.core.frame.DataFrame'>\n",
      "RangeIndex: 200 entries, 0 to 199\n",
      "Data columns (total 2 columns):\n",
      " #   Column    Non-Null Count  Dtype \n",
      "---  ------    --------------  ----- \n",
      " 0   Category  200 non-null    object\n",
      " 1   Resumes   200 non-null    object\n",
      "dtypes: object(2)\n",
      "memory usage: 3.2+ KB\n"
     ]
    }
   ],
   "source": [
    "data.info()"
   ]
  },
  {
   "cell_type": "code",
   "execution_count": null,
   "metadata": {},
   "outputs": [],
   "source": []
  },
  {
   "cell_type": "code",
   "execution_count": null,
   "metadata": {},
   "outputs": [],
   "source": []
  },
  {
   "cell_type": "code",
   "execution_count": null,
   "metadata": {},
   "outputs": [],
   "source": []
  }
 ],
 "metadata": {
  "kernelspec": {
   "display_name": "Python 3",
   "language": "python",
   "name": "python3"
  },
  "language_info": {
   "codemirror_mode": {
    "name": "ipython",
    "version": 3
   },
   "file_extension": ".py",
   "mimetype": "text/x-python",
   "name": "python",
   "nbconvert_exporter": "python",
   "pygments_lexer": "ipython3",
   "version": "3.8.5"
  }
 },
 "nbformat": 4,
 "nbformat_minor": 4
}
