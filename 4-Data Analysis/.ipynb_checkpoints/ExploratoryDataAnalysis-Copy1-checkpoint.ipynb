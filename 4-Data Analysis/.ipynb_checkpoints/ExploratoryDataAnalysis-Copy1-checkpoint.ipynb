{
 "cells": [
  {
   "cell_type": "code",
   "execution_count": 1,
   "metadata": {},
   "outputs": [],
   "source": [
    "import numpy as np\n",
    "import pandas as pd"
   ]
  },
  {
   "cell_type": "markdown",
   "metadata": {},
   "source": [
    "# Introduction to Exploratory Data Analysis\n",
    "In this notebook, we will learn one of the most important steps of the Data Science pipeline -  Exploratory Data Analysis.\n",
    "\n",
    "## **Exploratory Data Analysis (EDA):** \n",
    "Exploratory Data Analysis refers to the critical process of performing initial investigations on data so as to discover patterns,to spot anomalies,to test hypothesis and to check assumptions with the help of summary statistics and graphical representations. \n",
    "\n",
    "In short, it summarizes the main characteristics of a dataset."
   ]
  },
  {
   "cell_type": "markdown",
   "metadata": {},
   "source": [
    "## About the Dataset:\n",
    "The dataset we will be using here is the [Resume data](https://archive.ics.uci.edu/ml/datasets/wine+quality), containing certain information about candidates' skills, education and field of interest.\n",
    "\n",
    "This dataset is commonly used for predicting whether a particular CV is of desired category or not.\n",
    "\n",
    "**Refresher:**\n",
    "\n",
    "1. Target Variable: \n",
    "The target variable or label of a dataset is the feature of a dataset about which you want to gain a deeper understanding. \n",
    "It is the variable that is, or should be the output.\n",
    "\n",
    " \n",
    "2. Input Variable: \n",
    "One or more variables that are used to determine (or predict) the 'Target Variable' are known as Input Variables. They are sometimes called Predictor Variable as well.\"\n",
    " \n",
    "Now what will be the Input and Target variables in the CV classification problem? Let’s have a look:\n",
    "\n",
    "\n",
    "**Input variable:**\n",
    "\n",
    "1. Resumes\n",
    "\n",
    "\n",
    "**Output variable:**\n",
    "\n",
    "2. Job Category \n",
    "\n",
    "\n",
    "---\n",
    "\n",
    "\n",
    "In this notebook, we'll be performing EDA on CV data."
   ]
  },
  {
   "cell_type": "code",
   "execution_count": 2,
   "metadata": {},
   "outputs": [],
   "source": [
    "import numpy as np   # Fundamental package for linear algebra and multidimensional arrays\n",
    "import pandas as pd  # Data analysis and manipulation tool\n",
    "import matplotlib.pyplot as plt #Data Visualization Libraries\n",
    "import seaborn as sns\n",
    "# To ignore warnings\n",
    "import warnings\n",
    "warnings.filterwarnings('ignore')"
   ]
  },
  {
   "cell_type": "code",
   "execution_count": 3,
   "metadata": {},
   "outputs": [],
   "source": [
    "data = pd.read_csv(r'C:\\Users\\hp\\Resume\\3- Data Preparation\\new_data.csv',encoding ='ISO-8859-1')#importing data\n"
   ]
  },
  {
   "cell_type": "code",
   "execution_count": 4,
   "metadata": {},
   "outputs": [
    {
     "data": {
      "text/html": [
       "<div>\n",
       "<style scoped>\n",
       "    .dataframe tbody tr th:only-of-type {\n",
       "        vertical-align: middle;\n",
       "    }\n",
       "\n",
       "    .dataframe tbody tr th {\n",
       "        vertical-align: top;\n",
       "    }\n",
       "\n",
       "    .dataframe thead th {\n",
       "        text-align: right;\n",
       "    }\n",
       "</style>\n",
       "<table border=\"1\" class=\"dataframe\">\n",
       "  <thead>\n",
       "    <tr style=\"text-align: right;\">\n",
       "      <th></th>\n",
       "      <th>Category</th>\n",
       "      <th>Resumes</th>\n",
       "    </tr>\n",
       "  </thead>\n",
       "  <tbody>\n",
       "    <tr>\n",
       "      <th>0</th>\n",
       "      <td>Application Consultant</td>\n",
       "      <td>samama hill view block  gulistanejauhar karac...</td>\n",
       "    </tr>\n",
       "    <tr>\n",
       "      <th>1</th>\n",
       "      <td>JAVA developer</td>\n",
       "      <td>contactykphotmailcomwwwlinkedincominmuhammadmu...</td>\n",
       "    </tr>\n",
       "    <tr>\n",
       "      <th>2</th>\n",
       "      <td>Application Consultant</td>\n",
       "      <td>a experience   worked on several projects majo...</td>\n",
       "    </tr>\n",
       "    <tr>\n",
       "      <th>3</th>\n",
       "      <td>Application Consultant</td>\n",
       "      <td>\\nArsalan  Alam  Siddiqui  \\n\\nComplete curren...</td>\n",
       "    </tr>\n",
       "    <tr>\n",
       "      <th>4</th>\n",
       "      <td>Application Consultant</td>\n",
       "      <td>Contactstd_20585@iobm.edu.pkwww.linkedin.com/i...</td>\n",
       "    </tr>\n",
       "    <tr>\n",
       "      <th>5</th>\n",
       "      <td>JAVA developer</td>\n",
       "      <td>enthusiastic and reliable java developer with ...</td>\n",
       "    </tr>\n",
       "    <tr>\n",
       "      <th>6</th>\n",
       "      <td>JAVA developer</td>\n",
       "      <td>contactmahamarifgmailcomwwwlinkedincominmahama...</td>\n",
       "    </tr>\n",
       "    <tr>\n",
       "      <th>7</th>\n",
       "      <td>JAVA developer</td>\n",
       "      <td>contactmaheenunzeelahgmailcomwwwlinkedincominm...</td>\n",
       "    </tr>\n",
       "    <tr>\n",
       "      <th>8</th>\n",
       "      <td>JAVA developer</td>\n",
       "      <td>contactmumarabidgmailcomwwwlinkedincominumarab...</td>\n",
       "    </tr>\n",
       "    <tr>\n",
       "      <th>9</th>\n",
       "      <td>Application Consultant</td>\n",
       "      <td>contactdanishhussaingmailcomwwwlinkedincominda...</td>\n",
       "    </tr>\n",
       "  </tbody>\n",
       "</table>\n",
       "</div>"
      ],
      "text/plain": [
       "                 Category                                            Resumes\n",
       "0  Application Consultant   samama hill view block  gulistanejauhar karac...\n",
       "1          JAVA developer  contactykphotmailcomwwwlinkedincominmuhammadmu...\n",
       "2  Application Consultant  a experience   worked on several projects majo...\n",
       "3  Application Consultant  \\nArsalan  Alam  Siddiqui  \\n\\nComplete curren...\n",
       "4  Application Consultant  Contactstd_20585@iobm.edu.pkwww.linkedin.com/i...\n",
       "5          JAVA developer  enthusiastic and reliable java developer with ...\n",
       "6          JAVA developer  contactmahamarifgmailcomwwwlinkedincominmahama...\n",
       "7          JAVA developer  contactmaheenunzeelahgmailcomwwwlinkedincominm...\n",
       "8          JAVA developer  contactmumarabidgmailcomwwwlinkedincominumarab...\n",
       "9  Application Consultant  contactdanishhussaingmailcomwwwlinkedincominda..."
      ]
     },
     "execution_count": 4,
     "metadata": {},
     "output_type": "execute_result"
    }
   ],
   "source": [
    "data.head(10)\n"
   ]
  },
  {
   "cell_type": "markdown",
   "metadata": {},
   "source": [
    "# ANALYZING DATA VIA VISUALIZATION"
   ]
  },
  {
   "cell_type": "code",
   "execution_count": 5,
   "metadata": {},
   "outputs": [
    {
     "data": {
      "image/png": "[encoded data removed]",
      "text/plain": [
       "<Figure size 864x576 with 1 Axes>"
      ]
     },
     "metadata": {
      "needs_background": "light"
     },
     "output_type": "display_data"
    }
   ],
   "source": [
    "plt.figure(figsize=(12,8))\n",
    "sns.countplot(data.Category)\n",
    "plt.savefig('jobcategory_detail_h.png')\n"
   ]
  },
  {
   "cell_type": "code",
   "execution_count": 6,
   "metadata": {},
   "outputs": [
    {
     "data": {
      "image/png": "[encoded data removed]",
      "text/plain": [
       "<Figure size 720x720 with 1 Axes>"
      ]
     },
     "metadata": {
      "needs_background": "light"
     },
     "output_type": "display_data"
    }
   ],
   "source": [
    "plt.figure(figsize=(10,10))\n",
    "plt.xticks(rotation=90)\n",
    "sns.countplot(y=\"Category\", data=data)\n",
    "plt.savefig('jobcategory_detail_v.png')\n"
   ]
  },
  {
   "cell_type": "code",
   "execution_count": 7,
   "metadata": {},
   "outputs": [],
   "source": [
    "#Pie-chart\n",
    "targetCounts = data['Category'].value_counts().reset_index()['Category']\n",
    "targetLabels  = data['Category'].value_counts().reset_index()['index']\n"
   ]
  },
  {
   "cell_type": "code",
   "execution_count": 8,
   "metadata": {},
   "outputs": [
    {
     "data": {
      "image/png": "[encoded data removed]",
      "text/plain": [
       "<Figure size 1800x1800 with 1 Axes>"
      ]
     },
     "metadata": {},
     "output_type": "display_data"
    }
   ],
   "source": [
    "from matplotlib.gridspec import GridSpec\n",
    "from scipy.sparse import hstack\n",
    "# Make square figures and axes\n",
    "plt.figure(1, figsize=(25,25))\n",
    "the_grid = GridSpec(2, 2)\n",
    "plt.subplot(the_grid[0, 1], aspect=1, title='CATEGORY DISTRIBUTION')\n",
    "source_pie = plt.pie(targetCounts, labels=targetLabels, autopct='%1.1f%%', shadow=True, )\n",
    "plt.savefig('category_dist.png')\n"
   ]
  },
  {
   "cell_type": "code",
   "execution_count": 9,
   "metadata": {},
   "outputs": [],
   "source": [
    "from sklearn.impute import SimpleImputer\n",
    "imputer = SimpleImputer(missing_values=np.nan, strategy='most_frequent')\n"
   ]
  },
  {
   "cell_type": "code",
   "execution_count": 10,
   "metadata": {},
   "outputs": [],
   "source": [
    "from sklearn.preprocessing import LabelEncoder\n",
    "le_1 = LabelEncoder()\n",
    "data['Category']=le_1.fit_transform(data['Category'])\n"
   ]
  },
  {
   "cell_type": "code",
   "execution_count": 11,
   "metadata": {},
   "outputs": [
    {
     "data": {
      "text/html": [
       "<div>\n",
       "<style scoped>\n",
       "    .dataframe tbody tr th:only-of-type {\n",
       "        vertical-align: middle;\n",
       "    }\n",
       "\n",
       "    .dataframe tbody tr th {\n",
       "        vertical-align: top;\n",
       "    }\n",
       "\n",
       "    .dataframe thead th {\n",
       "        text-align: right;\n",
       "    }\n",
       "</style>\n",
       "<table border=\"1\" class=\"dataframe\">\n",
       "  <thead>\n",
       "    <tr style=\"text-align: right;\">\n",
       "      <th></th>\n",
       "      <th>Category</th>\n",
       "      <th>Resumes</th>\n",
       "    </tr>\n",
       "  </thead>\n",
       "  <tbody>\n",
       "    <tr>\n",
       "      <th>0</th>\n",
       "      <td>0</td>\n",
       "      <td>samama hill view block  gulistanejauhar karac...</td>\n",
       "    </tr>\n",
       "    <tr>\n",
       "      <th>1</th>\n",
       "      <td>2</td>\n",
       "      <td>contactykphotmailcomwwwlinkedincominmuhammadmu...</td>\n",
       "    </tr>\n",
       "    <tr>\n",
       "      <th>2</th>\n",
       "      <td>0</td>\n",
       "      <td>a experience   worked on several projects majo...</td>\n",
       "    </tr>\n",
       "    <tr>\n",
       "      <th>3</th>\n",
       "      <td>0</td>\n",
       "      <td>\\nArsalan  Alam  Siddiqui  \\n\\nComplete curren...</td>\n",
       "    </tr>\n",
       "    <tr>\n",
       "      <th>4</th>\n",
       "      <td>0</td>\n",
       "      <td>Contactstd_20585@iobm.edu.pkwww.linkedin.com/i...</td>\n",
       "    </tr>\n",
       "    <tr>\n",
       "      <th>...</th>\n",
       "      <td>...</td>\n",
       "      <td>...</td>\n",
       "    </tr>\n",
       "    <tr>\n",
       "      <th>195</th>\n",
       "      <td>3</td>\n",
       "      <td>impact and tangible results to benefit of gpug...</td>\n",
       "    </tr>\n",
       "    <tr>\n",
       "      <th>196</th>\n",
       "      <td>3</td>\n",
       "      <td>marketing certificationcertificate of appreci...</td>\n",
       "    </tr>\n",
       "    <tr>\n",
       "      <th>197</th>\n",
       "      <td>3</td>\n",
       "      <td>contact homeengrrakeshgmailcomwwwlinkedincomin...</td>\n",
       "    </tr>\n",
       "    <tr>\n",
       "      <th>198</th>\n",
       "      <td>2</td>\n",
       "      <td>Skills Language: JavaOperating System: Windows...</td>\n",
       "    </tr>\n",
       "    <tr>\n",
       "      <th>199</th>\n",
       "      <td>2</td>\n",
       "      <td>Technical Skills (Trained / Project Acquired S...</td>\n",
       "    </tr>\n",
       "  </tbody>\n",
       "</table>\n",
       "<p>200 rows × 2 columns</p>\n",
       "</div>"
      ],
      "text/plain": [
       "     Category                                            Resumes\n",
       "0           0   samama hill view block  gulistanejauhar karac...\n",
       "1           2  contactykphotmailcomwwwlinkedincominmuhammadmu...\n",
       "2           0  a experience   worked on several projects majo...\n",
       "3           0  \\nArsalan  Alam  Siddiqui  \\n\\nComplete curren...\n",
       "4           0  Contactstd_20585@iobm.edu.pkwww.linkedin.com/i...\n",
       "..        ...                                                ...\n",
       "195         3  impact and tangible results to benefit of gpug...\n",
       "196         3   marketing certificationcertificate of appreci...\n",
       "197         3  contact homeengrrakeshgmailcomwwwlinkedincomin...\n",
       "198         2  Skills Language: JavaOperating System: Windows...\n",
       "199         2  Technical Skills (Trained / Project Acquired S...\n",
       "\n",
       "[200 rows x 2 columns]"
      ]
     },
     "execution_count": 11,
     "metadata": {},
     "output_type": "execute_result"
    }
   ],
   "source": [
    "data"
   ]
  },
  {
   "cell_type": "markdown",
   "metadata": {},
   "source": [
    "# Displaying Histogram 0 for Application Consultant  1 for Data Analyst, 2 for JAVA Developer & 3 for Project Manager"
   ]
  },
  {
   "cell_type": "code",
   "execution_count": 12,
   "metadata": {},
   "outputs": [
    {
     "data": {
      "image/png": "[encoded data removed]",
      "text/plain": [
       "<Figure size 1152x864 with 1 Axes>"
      ]
     },
     "metadata": {
      "needs_background": "light"
     },
     "output_type": "display_data"
    }
   ],
   "source": [
    "data.hist(bins=10, figsize=(16,12))\n",
    "plt.show()"
   ]
  },
  {
   "cell_type": "markdown",
   "metadata": {},
   "source": [
    "# Analyzing Co relations using heatmaps"
   ]
  },
  {
   "cell_type": "code",
   "execution_count": 13,
   "metadata": {},
   "outputs": [
    {
     "data": {
      "text/html": [
       "<div>\n",
       "<style scoped>\n",
       "    .dataframe tbody tr th:only-of-type {\n",
       "        vertical-align: middle;\n",
       "    }\n",
       "\n",
       "    .dataframe tbody tr th {\n",
       "        vertical-align: top;\n",
       "    }\n",
       "\n",
       "    .dataframe thead th {\n",
       "        text-align: right;\n",
       "    }\n",
       "</style>\n",
       "<table border=\"1\" class=\"dataframe\">\n",
       "  <thead>\n",
       "    <tr style=\"text-align: right;\">\n",
       "      <th></th>\n",
       "      <th>Category</th>\n",
       "    </tr>\n",
       "  </thead>\n",
       "  <tbody>\n",
       "    <tr>\n",
       "      <th>Category</th>\n",
       "      <td>1.0</td>\n",
       "    </tr>\n",
       "  </tbody>\n",
       "</table>\n",
       "</div>"
      ],
      "text/plain": [
       "          Category\n",
       "Category       1.0"
      ]
     },
     "execution_count": 13,
     "metadata": {},
     "output_type": "execute_result"
    }
   ],
   "source": [
    "data.corr()"
   ]
  },
  {
   "cell_type": "code",
   "execution_count": 14,
   "metadata": {},
   "outputs": [
    {
     "data": {
      "text/plain": [
       "<AxesSubplot:>"
      ]
     },
     "execution_count": 14,
     "metadata": {},
     "output_type": "execute_result"
    },
    {
     "data": {
      "image/png": "[encoded data removed]",
      "text/plain": [
       "<Figure size 1152x864 with 2 Axes>"
      ]
     },
     "metadata": {
      "needs_background": "light"
     },
     "output_type": "display_data"
    }
   ],
   "source": [
    "plt.figure(figsize=(16, 12))\n",
    "sns.heatmap(data.corr(), cmap='bwr', annot=True)     # annot = True: to display the correlation value in the graph"
   ]
  },
  {
   "cell_type": "code",
   "execution_count": 15,
   "metadata": {},
   "outputs": [
    {
     "data": {
      "text/plain": [
       "LabelEncoder()"
      ]
     },
     "execution_count": 15,
     "metadata": {},
     "output_type": "execute_result"
    }
   ],
   "source": [
    "import re\n",
    "from sklearn import preprocessing\n",
    "le= preprocessing.LabelEncoder()\n",
    "le.fit([\"Application Consultant\",\"Data Analyst\",\"JAVA developer\",\"Project Manager\"])"
   ]
  },
  {
   "cell_type": "code",
   "execution_count": 16,
   "metadata": {},
   "outputs": [],
   "source": [
    "def cleanResume(resumeText):\n",
    "    resumeText = re.sub(\"[^a-zA-Z]\",  # Search for all non-letters\n",
    "                          \" \",          # Replace all non-letters with spaces\n",
    "                          str(resumeText))\n",
    "    resumeText = re.sub('httpS+s*', ' ', resumeText)  # remove URLs\n",
    "    resumeText = re.sub('RT|cc', ' ', resumeText)  # remove RT and cc\n",
    "    resumeText = re.sub('#S+', '', resumeText)  # remove hashtags\n",
    "    resumeText = re.sub('@S+', '  ', resumeText)  # remove mentions\n",
    "    resumeText = re.sub('[%s]' % re.escape(\"\"\"!\"#$%&'()*+,-./:;<=>?@[]^_`{|}~\"\"\"), ' ', resumeText)  # remove punctuations\n",
    "    resumeText = re.sub(r'[^x00-x7f]',r' ', resumeText) \n",
    "    resumeText = re.sub('s+', ' ', resumeText)  # remove extra whitespace\n",
    "    return resumeText\n",
    "data['cleaned_resume'] = data.Resumes.apply(lambda x: cleanResume(x))\n"
   ]
  },
  {
   "cell_type": "code",
   "execution_count": 17,
   "metadata": {},
   "outputs": [
    {
     "data": {
      "text/html": [
       "<div>\n",
       "<style scoped>\n",
       "    .dataframe tbody tr th:only-of-type {\n",
       "        vertical-align: middle;\n",
       "    }\n",
       "\n",
       "    .dataframe tbody tr th {\n",
       "        vertical-align: top;\n",
       "    }\n",
       "\n",
       "    .dataframe thead th {\n",
       "        text-align: right;\n",
       "    }\n",
       "</style>\n",
       "<table border=\"1\" class=\"dataframe\">\n",
       "  <thead>\n",
       "    <tr style=\"text-align: right;\">\n",
       "      <th></th>\n",
       "      <th>Category</th>\n",
       "      <th>Resumes</th>\n",
       "      <th>cleaned_resume</th>\n",
       "    </tr>\n",
       "  </thead>\n",
       "  <tbody>\n",
       "    <tr>\n",
       "      <th>0</th>\n",
       "      <td>0</td>\n",
       "      <td>samama hill view block  gulistanejauhar karac...</td>\n",
       "      <td>amama hill view block  guli tanejauhar karac...</td>\n",
       "    </tr>\n",
       "    <tr>\n",
       "      <th>1</th>\n",
       "      <td>2</td>\n",
       "      <td>contactykphotmailcomwwwlinkedincominmuhammadmu...</td>\n",
       "      <td>contact kphotmailcomwwwlinkedincominmuhammadmu...</td>\n",
       "    </tr>\n",
       "    <tr>\n",
       "      <th>2</th>\n",
       "      <td>0</td>\n",
       "      <td>a experience   worked on several projects majo...</td>\n",
       "      <td>a experience   worked on  everal project  majo...</td>\n",
       "    </tr>\n",
       "    <tr>\n",
       "      <th>3</th>\n",
       "      <td>0</td>\n",
       "      <td>\\nArsalan  Alam  Siddiqui  \\n\\nComplete curren...</td>\n",
       "      <td>Ar alan  Alam  Siddiqui    Complete current R...</td>\n",
       "    </tr>\n",
       "    <tr>\n",
       "      <th>4</th>\n",
       "      <td>0</td>\n",
       "      <td>Contactstd_20585@iobm.edu.pkwww.linkedin.com/i...</td>\n",
       "      <td>Contact td       iobm edu pkwww linkedin com i...</td>\n",
       "    </tr>\n",
       "    <tr>\n",
       "      <th>...</th>\n",
       "      <td>...</td>\n",
       "      <td>...</td>\n",
       "      <td>...</td>\n",
       "    </tr>\n",
       "    <tr>\n",
       "      <th>195</th>\n",
       "      <td>3</td>\n",
       "      <td>impact and tangible results to benefit of gpug...</td>\n",
       "      <td>impact and tangible re ult  to benefit of gpug...</td>\n",
       "    </tr>\n",
       "    <tr>\n",
       "      <th>196</th>\n",
       "      <td>3</td>\n",
       "      <td>marketing certificationcertificate of appreci...</td>\n",
       "      <td>marketing certificationcertificate of appreci...</td>\n",
       "    </tr>\n",
       "    <tr>\n",
       "      <th>197</th>\n",
       "      <td>3</td>\n",
       "      <td>contact homeengrrakeshgmailcomwwwlinkedincomin...</td>\n",
       "      <td>contact homeengrrake hgmailcomwwwlinkedincomin...</td>\n",
       "    </tr>\n",
       "    <tr>\n",
       "      <th>198</th>\n",
       "      <td>2</td>\n",
       "      <td>Skills Language: JavaOperating System: Windows...</td>\n",
       "      <td>Skill  Language  JavaOperating S  tem  Window ...</td>\n",
       "    </tr>\n",
       "    <tr>\n",
       "      <th>199</th>\n",
       "      <td>2</td>\n",
       "      <td>Technical Skills (Trained / Project Acquired S...</td>\n",
       "      <td>Technical Skill   Trained   Project Acquired S...</td>\n",
       "    </tr>\n",
       "  </tbody>\n",
       "</table>\n",
       "<p>200 rows × 3 columns</p>\n",
       "</div>"
      ],
      "text/plain": [
       "     Category                                            Resumes  \\\n",
       "0           0   samama hill view block  gulistanejauhar karac...   \n",
       "1           2  contactykphotmailcomwwwlinkedincominmuhammadmu...   \n",
       "2           0  a experience   worked on several projects majo...   \n",
       "3           0  \\nArsalan  Alam  Siddiqui  \\n\\nComplete curren...   \n",
       "4           0  Contactstd_20585@iobm.edu.pkwww.linkedin.com/i...   \n",
       "..        ...                                                ...   \n",
       "195         3  impact and tangible results to benefit of gpug...   \n",
       "196         3   marketing certificationcertificate of appreci...   \n",
       "197         3  contact homeengrrakeshgmailcomwwwlinkedincomin...   \n",
       "198         2  Skills Language: JavaOperating System: Windows...   \n",
       "199         2  Technical Skills (Trained / Project Acquired S...   \n",
       "\n",
       "                                        cleaned_resume  \n",
       "0      amama hill view block  guli tanejauhar karac...  \n",
       "1    contact kphotmailcomwwwlinkedincominmuhammadmu...  \n",
       "2    a experience   worked on  everal project  majo...  \n",
       "3     Ar alan  Alam  Siddiqui    Complete current R...  \n",
       "4    Contact td       iobm edu pkwww linkedin com i...  \n",
       "..                                                 ...  \n",
       "195  impact and tangible re ult  to benefit of gpug...  \n",
       "196   marketing certificationcertificate of appreci...  \n",
       "197  contact homeengrrake hgmailcomwwwlinkedincomin...  \n",
       "198  Skill  Language  JavaOperating S  tem  Window ...  \n",
       "199  Technical Skill   Trained   Project Acquired S...  \n",
       "\n",
       "[200 rows x 3 columns]"
      ]
     },
     "execution_count": 17,
     "metadata": {},
     "output_type": "execute_result"
    }
   ],
   "source": [
    "data"
   ]
  },
  {
   "cell_type": "code",
   "execution_count": 18,
   "metadata": {},
   "outputs": [],
   "source": [
    "data.to_csv('target_new.csv') # Saving the csv file for model building"
   ]
  },
  {
   "cell_type": "code",
   "execution_count": null,
   "metadata": {},
   "outputs": [],
   "source": []
  }
 ],
 "metadata": {
  "kernelspec": {
   "display_name": "Python 3",
   "language": "python",
   "name": "python3"
  },
  "language_info": {
   "codemirror_mode": {
    "name": "ipython",
    "version": 3
   },
   "file_extension": ".py",
   "mimetype": "text/x-python",
   "name": "python",
   "nbconvert_exporter": "python",
   "pygments_lexer": "ipython3",
   "version": "3.8.5"
  }
 },
 "nbformat": 4,
 "nbformat_minor": 4
}
